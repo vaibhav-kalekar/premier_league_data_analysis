{
 "cells": [
  {
   "cell_type": "code",
   "execution_count": 11,
   "metadata": {},
   "outputs": [],
   "source": [
    "import pandas as pd\n",
    "import numpy as np\n",
    "import matplotlib.pyplot as plt\n",
    "import seaborn as sns\n",
    "import plotly.express as px\n",
    "import plotly.graph_objects as go"
   ]
  },
  {
   "cell_type": "markdown",
   "metadata": {},
   "source": [
    "## load the csv file into pandas"
   ]
  },
  {
   "cell_type": "code",
   "execution_count": 14,
   "metadata": {},
   "outputs": [],
   "source": [
    "df = pd.read_csv('data/premier_league.csv')"
   ]
  },
  {
   "cell_type": "code",
   "execution_count": 15,
   "metadata": {},
   "outputs": [
    {
     "name": "stdout",
     "output_type": "stream",
     "text": [
      "First few rows from the csv file\n"
     ]
    },
    {
     "data": {
      "text/html": [
       "<div>\n",
       "<style scoped>\n",
       "    .dataframe tbody tr th:only-of-type {\n",
       "        vertical-align: middle;\n",
       "    }\n",
       "\n",
       "    .dataframe tbody tr th {\n",
       "        vertical-align: top;\n",
       "    }\n",
       "\n",
       "    .dataframe thead th {\n",
       "        text-align: right;\n",
       "    }\n",
       "</style>\n",
       "<table border=\"1\" class=\"dataframe\">\n",
       "  <thead>\n",
       "    <tr style=\"text-align: right;\">\n",
       "      <th></th>\n",
       "      <th>date</th>\n",
       "      <th>matchday</th>\n",
       "      <th>home_team</th>\n",
       "      <th>away_team</th>\n",
       "      <th>home_score_full_time</th>\n",
       "      <th>away_score_full_time</th>\n",
       "      <th>home_score_half_time</th>\n",
       "      <th>away_score_half_time</th>\n",
       "      <th>goal_diff</th>\n",
       "      <th>winner</th>\n",
       "      <th>defeat</th>\n",
       "      <th>ref</th>\n",
       "    </tr>\n",
       "  </thead>\n",
       "  <tbody>\n",
       "    <tr>\n",
       "      <th>0</th>\n",
       "      <td>2023-08-11T19:00:00Z</td>\n",
       "      <td>1</td>\n",
       "      <td>Burnley</td>\n",
       "      <td>Man City</td>\n",
       "      <td>0</td>\n",
       "      <td>3</td>\n",
       "      <td>0</td>\n",
       "      <td>2</td>\n",
       "      <td>3</td>\n",
       "      <td>Man City</td>\n",
       "      <td>Burnley</td>\n",
       "      <td>Craig Pawson</td>\n",
       "    </tr>\n",
       "    <tr>\n",
       "      <th>1</th>\n",
       "      <td>2023-08-12T12:00:00Z</td>\n",
       "      <td>1</td>\n",
       "      <td>Arsenal</td>\n",
       "      <td>Nottingham</td>\n",
       "      <td>2</td>\n",
       "      <td>1</td>\n",
       "      <td>2</td>\n",
       "      <td>0</td>\n",
       "      <td>1</td>\n",
       "      <td>Arsenal</td>\n",
       "      <td>Nottingham</td>\n",
       "      <td>Michael Oliver</td>\n",
       "    </tr>\n",
       "    <tr>\n",
       "      <th>2</th>\n",
       "      <td>2023-08-12T14:00:00Z</td>\n",
       "      <td>1</td>\n",
       "      <td>Bournemouth</td>\n",
       "      <td>West Ham</td>\n",
       "      <td>1</td>\n",
       "      <td>1</td>\n",
       "      <td>0</td>\n",
       "      <td>0</td>\n",
       "      <td>0</td>\n",
       "      <td>DRAW</td>\n",
       "      <td>DRAW</td>\n",
       "      <td>Peter Bankes</td>\n",
       "    </tr>\n",
       "    <tr>\n",
       "      <th>3</th>\n",
       "      <td>2023-08-12T14:00:00Z</td>\n",
       "      <td>1</td>\n",
       "      <td>Brighton Hove</td>\n",
       "      <td>Luton Town</td>\n",
       "      <td>4</td>\n",
       "      <td>1</td>\n",
       "      <td>1</td>\n",
       "      <td>0</td>\n",
       "      <td>3</td>\n",
       "      <td>Brighton Hove</td>\n",
       "      <td>Luton Town</td>\n",
       "      <td>David Coote</td>\n",
       "    </tr>\n",
       "    <tr>\n",
       "      <th>4</th>\n",
       "      <td>2023-08-12T14:00:00Z</td>\n",
       "      <td>1</td>\n",
       "      <td>Everton</td>\n",
       "      <td>Fulham</td>\n",
       "      <td>0</td>\n",
       "      <td>1</td>\n",
       "      <td>0</td>\n",
       "      <td>0</td>\n",
       "      <td>1</td>\n",
       "      <td>Fulham</td>\n",
       "      <td>Everton</td>\n",
       "      <td>Stuart Attwell</td>\n",
       "    </tr>\n",
       "  </tbody>\n",
       "</table>\n",
       "</div>"
      ],
      "text/plain": [
       "                   date  matchday      home_team   away_team  \\\n",
       "0  2023-08-11T19:00:00Z         1        Burnley    Man City   \n",
       "1  2023-08-12T12:00:00Z         1        Arsenal  Nottingham   \n",
       "2  2023-08-12T14:00:00Z         1    Bournemouth    West Ham   \n",
       "3  2023-08-12T14:00:00Z         1  Brighton Hove  Luton Town   \n",
       "4  2023-08-12T14:00:00Z         1        Everton      Fulham   \n",
       "\n",
       "   home_score_full_time  away_score_full_time  home_score_half_time  \\\n",
       "0                     0                     3                     0   \n",
       "1                     2                     1                     2   \n",
       "2                     1                     1                     0   \n",
       "3                     4                     1                     1   \n",
       "4                     0                     1                     0   \n",
       "\n",
       "   away_score_half_time  goal_diff         winner      defeat             ref  \n",
       "0                     2          3       Man City     Burnley    Craig Pawson  \n",
       "1                     0          1        Arsenal  Nottingham  Michael Oliver  \n",
       "2                     0          0           DRAW        DRAW    Peter Bankes  \n",
       "3                     0          3  Brighton Hove  Luton Town     David Coote  \n",
       "4                     0          1         Fulham     Everton  Stuart Attwell  "
      ]
     },
     "metadata": {},
     "output_type": "display_data"
    }
   ],
   "source": [
    "print(\"First few rows from the csv file\")\n",
    "display(df.head())"
   ]
  },
  {
   "cell_type": "code",
   "execution_count": 16,
   "metadata": {},
   "outputs": [
    {
     "name": "stdout",
     "output_type": "stream",
     "text": [
      "\n",
      "Dataset Info:\n",
      "<class 'pandas.core.frame.DataFrame'>\n",
      "RangeIndex: 380 entries, 0 to 379\n",
      "Data columns (total 12 columns):\n",
      " #   Column                Non-Null Count  Dtype \n",
      "---  ------                --------------  ----- \n",
      " 0   date                  380 non-null    object\n",
      " 1   matchday              380 non-null    int64 \n",
      " 2   home_team             380 non-null    object\n",
      " 3   away_team             380 non-null    object\n",
      " 4   home_score_full_time  380 non-null    int64 \n",
      " 5   away_score_full_time  380 non-null    int64 \n",
      " 6   home_score_half_time  380 non-null    int64 \n",
      " 7   away_score_half_time  380 non-null    int64 \n",
      " 8   goal_diff             380 non-null    int64 \n",
      " 9   winner                380 non-null    object\n",
      " 10  defeat                380 non-null    object\n",
      " 11  ref                   380 non-null    object\n",
      "dtypes: int64(6), object(6)\n",
      "memory usage: 35.8+ KB\n"
     ]
    },
    {
     "data": {
      "text/plain": [
       "None"
      ]
     },
     "metadata": {},
     "output_type": "display_data"
    }
   ],
   "source": [
    "print(\"\\nDataset Info:\")\n",
    "display(df.info())"
   ]
  },
  {
   "cell_type": "code",
   "execution_count": 17,
   "metadata": {},
   "outputs": [
    {
     "name": "stdout",
     "output_type": "stream",
     "text": [
      "\n",
      "Basic Statistics:\n"
     ]
    },
    {
     "data": {
      "text/html": [
       "<div>\n",
       "<style scoped>\n",
       "    .dataframe tbody tr th:only-of-type {\n",
       "        vertical-align: middle;\n",
       "    }\n",
       "\n",
       "    .dataframe tbody tr th {\n",
       "        vertical-align: top;\n",
       "    }\n",
       "\n",
       "    .dataframe thead th {\n",
       "        text-align: right;\n",
       "    }\n",
       "</style>\n",
       "<table border=\"1\" class=\"dataframe\">\n",
       "  <thead>\n",
       "    <tr style=\"text-align: right;\">\n",
       "      <th></th>\n",
       "      <th>matchday</th>\n",
       "      <th>home_score_full_time</th>\n",
       "      <th>away_score_full_time</th>\n",
       "      <th>home_score_half_time</th>\n",
       "      <th>away_score_half_time</th>\n",
       "      <th>goal_diff</th>\n",
       "    </tr>\n",
       "  </thead>\n",
       "  <tbody>\n",
       "    <tr>\n",
       "      <th>count</th>\n",
       "      <td>380.000000</td>\n",
       "      <td>380.000000</td>\n",
       "      <td>380.000000</td>\n",
       "      <td>380.000000</td>\n",
       "      <td>380.000000</td>\n",
       "      <td>380.000000</td>\n",
       "    </tr>\n",
       "    <tr>\n",
       "      <th>mean</th>\n",
       "      <td>19.500000</td>\n",
       "      <td>1.800000</td>\n",
       "      <td>1.478947</td>\n",
       "      <td>0.734211</td>\n",
       "      <td>0.626316</td>\n",
       "      <td>1.584211</td>\n",
       "    </tr>\n",
       "    <tr>\n",
       "      <th>std</th>\n",
       "      <td>10.980313</td>\n",
       "      <td>1.365616</td>\n",
       "      <td>1.277811</td>\n",
       "      <td>0.831687</td>\n",
       "      <td>0.823367</td>\n",
       "      <td>1.355440</td>\n",
       "    </tr>\n",
       "    <tr>\n",
       "      <th>min</th>\n",
       "      <td>1.000000</td>\n",
       "      <td>0.000000</td>\n",
       "      <td>0.000000</td>\n",
       "      <td>0.000000</td>\n",
       "      <td>0.000000</td>\n",
       "      <td>0.000000</td>\n",
       "    </tr>\n",
       "    <tr>\n",
       "      <th>25%</th>\n",
       "      <td>10.000000</td>\n",
       "      <td>1.000000</td>\n",
       "      <td>1.000000</td>\n",
       "      <td>0.000000</td>\n",
       "      <td>0.000000</td>\n",
       "      <td>1.000000</td>\n",
       "    </tr>\n",
       "    <tr>\n",
       "      <th>50%</th>\n",
       "      <td>19.500000</td>\n",
       "      <td>2.000000</td>\n",
       "      <td>1.000000</td>\n",
       "      <td>1.000000</td>\n",
       "      <td>0.000000</td>\n",
       "      <td>1.000000</td>\n",
       "    </tr>\n",
       "    <tr>\n",
       "      <th>75%</th>\n",
       "      <td>29.000000</td>\n",
       "      <td>3.000000</td>\n",
       "      <td>2.000000</td>\n",
       "      <td>1.000000</td>\n",
       "      <td>1.000000</td>\n",
       "      <td>2.000000</td>\n",
       "    </tr>\n",
       "    <tr>\n",
       "      <th>max</th>\n",
       "      <td>38.000000</td>\n",
       "      <td>6.000000</td>\n",
       "      <td>8.000000</td>\n",
       "      <td>4.000000</td>\n",
       "      <td>5.000000</td>\n",
       "      <td>8.000000</td>\n",
       "    </tr>\n",
       "  </tbody>\n",
       "</table>\n",
       "</div>"
      ],
      "text/plain": [
       "         matchday  home_score_full_time  away_score_full_time  \\\n",
       "count  380.000000            380.000000            380.000000   \n",
       "mean    19.500000              1.800000              1.478947   \n",
       "std     10.980313              1.365616              1.277811   \n",
       "min      1.000000              0.000000              0.000000   \n",
       "25%     10.000000              1.000000              1.000000   \n",
       "50%     19.500000              2.000000              1.000000   \n",
       "75%     29.000000              3.000000              2.000000   \n",
       "max     38.000000              6.000000              8.000000   \n",
       "\n",
       "       home_score_half_time  away_score_half_time   goal_diff  \n",
       "count            380.000000            380.000000  380.000000  \n",
       "mean               0.734211              0.626316    1.584211  \n",
       "std                0.831687              0.823367    1.355440  \n",
       "min                0.000000              0.000000    0.000000  \n",
       "25%                0.000000              0.000000    1.000000  \n",
       "50%                1.000000              0.000000    1.000000  \n",
       "75%                1.000000              1.000000    2.000000  \n",
       "max                4.000000              5.000000    8.000000  "
      ]
     },
     "metadata": {},
     "output_type": "display_data"
    }
   ],
   "source": [
    "print(\"\\nBasic Statistics:\")\n",
    "display(df.describe())"
   ]
  },
  {
   "cell_type": "code",
   "execution_count": null,
   "metadata": {},
   "outputs": [],
   "source": [
    "print(\"\\nMissing Values:\")\n",
    "display(df.isnull().sum())"
   ]
  },
  {
   "cell_type": "code",
   "execution_count": 18,
   "metadata": {},
   "outputs": [],
   "source": [
    "df = df.drop_duplicates()\n",
    "df = df.dropna()\n",
    "df = df.reset_index(drop=True)"
   ]
  },
  {
   "cell_type": "code",
   "execution_count": 21,
   "metadata": {},
   "outputs": [
    {
     "data": {
      "text/plain": [
       "winner\n",
       "DRAW              82\n",
       "Man City          28\n",
       "Arsenal           28\n",
       "Liverpool         24\n",
       "Aston Villa       20\n",
       "Tottenham         20\n",
       "Newcastle         18\n",
       "Man United        18\n",
       "Chelsea           18\n",
       "West Ham          14\n",
       "Bournemouth       13\n",
       "Everton           13\n",
       "Wolverhampton     13\n",
       "Fulham            13\n",
       "Crystal Palace    13\n",
       "Brighton Hove     12\n",
       "Brentford         10\n",
       "Nottingham         9\n",
       "Luton Town         6\n",
       "Burnley            5\n",
       "Sheffield Utd      3\n",
       "Name: count, dtype: int64"
      ]
     },
     "execution_count": 21,
     "metadata": {},
     "output_type": "execute_result"
    }
   ],
   "source": [
    "df[\"winner\"].value_counts()"
   ]
  },
  {
   "cell_type": "code",
   "execution_count": 22,
   "metadata": {},
   "outputs": [
    {
     "data": {
      "text/plain": [
       "defeat\n",
       "DRAW              82\n",
       "Sheffield Utd     28\n",
       "Burnley           24\n",
       "Luton Town        24\n",
       "Nottingham        20\n",
       "Brentford         19\n",
       "Wolverhampton     18\n",
       "Fulham            17\n",
       "Everton           16\n",
       "Bournemouth       16\n",
       "Crystal Palace    15\n",
       "West Ham          14\n",
       "Brighton Hove     14\n",
       "Man United        14\n",
       "Newcastle         14\n",
       "Tottenham         12\n",
       "Chelsea           11\n",
       "Aston Villa       10\n",
       "Arsenal            5\n",
       "Liverpool          4\n",
       "Man City           3\n",
       "Name: count, dtype: int64"
      ]
     },
     "execution_count": 22,
     "metadata": {},
     "output_type": "execute_result"
    }
   ],
   "source": [
    "df[\"defeat\"].value_counts()"
   ]
  },
  {
   "cell_type": "code",
   "execution_count": 71,
   "metadata": {},
   "outputs": [
    {
     "name": "stderr",
     "output_type": "stream",
     "text": [
      "/var/folders/yn/__jqmw7x4q3_z3dbndg711w80000gn/T/ipykernel_38908/820251367.py:6: FutureWarning:\n",
      "\n",
      "Downcasting object dtype arrays on .fillna, .ffill, .bfill is deprecated and will change in a future version. Call result.infer_objects(copy=False) instead. To opt-in to the future behavior, set `pd.set_option('future.no_silent_downcasting', True)`\n",
      "\n"
     ]
    },
    {
     "data": {
      "text/html": [
       "<div>\n",
       "<style scoped>\n",
       "    .dataframe tbody tr th:only-of-type {\n",
       "        vertical-align: middle;\n",
       "    }\n",
       "\n",
       "    .dataframe tbody tr th {\n",
       "        vertical-align: top;\n",
       "    }\n",
       "\n",
       "    .dataframe thead th {\n",
       "        text-align: right;\n",
       "    }\n",
       "</style>\n",
       "<table border=\"1\" class=\"dataframe\">\n",
       "  <thead>\n",
       "    <tr style=\"text-align: right;\">\n",
       "      <th></th>\n",
       "      <th>Team</th>\n",
       "      <th>P</th>\n",
       "      <th>W</th>\n",
       "      <th>D</th>\n",
       "      <th>L</th>\n",
       "      <th>GF</th>\n",
       "      <th>GA</th>\n",
       "      <th>GD</th>\n",
       "      <th>PTS</th>\n",
       "    </tr>\n",
       "  </thead>\n",
       "  <tbody>\n",
       "    <tr>\n",
       "      <th>0</th>\n",
       "      <td>Man City</td>\n",
       "      <td>38</td>\n",
       "      <td>28</td>\n",
       "      <td>7</td>\n",
       "      <td>3</td>\n",
       "      <td>96</td>\n",
       "      <td>34</td>\n",
       "      <td>62</td>\n",
       "      <td>91</td>\n",
       "    </tr>\n",
       "    <tr>\n",
       "      <th>1</th>\n",
       "      <td>Arsenal</td>\n",
       "      <td>38</td>\n",
       "      <td>28</td>\n",
       "      <td>5</td>\n",
       "      <td>5</td>\n",
       "      <td>91</td>\n",
       "      <td>29</td>\n",
       "      <td>62</td>\n",
       "      <td>89</td>\n",
       "    </tr>\n",
       "    <tr>\n",
       "      <th>2</th>\n",
       "      <td>Liverpool</td>\n",
       "      <td>38</td>\n",
       "      <td>24</td>\n",
       "      <td>10</td>\n",
       "      <td>4</td>\n",
       "      <td>86</td>\n",
       "      <td>41</td>\n",
       "      <td>45</td>\n",
       "      <td>82</td>\n",
       "    </tr>\n",
       "    <tr>\n",
       "      <th>3</th>\n",
       "      <td>Aston Villa</td>\n",
       "      <td>38</td>\n",
       "      <td>20</td>\n",
       "      <td>8</td>\n",
       "      <td>10</td>\n",
       "      <td>76</td>\n",
       "      <td>61</td>\n",
       "      <td>15</td>\n",
       "      <td>68</td>\n",
       "    </tr>\n",
       "    <tr>\n",
       "      <th>4</th>\n",
       "      <td>Tottenham</td>\n",
       "      <td>38</td>\n",
       "      <td>20</td>\n",
       "      <td>6</td>\n",
       "      <td>12</td>\n",
       "      <td>74</td>\n",
       "      <td>61</td>\n",
       "      <td>13</td>\n",
       "      <td>66</td>\n",
       "    </tr>\n",
       "    <tr>\n",
       "      <th>5</th>\n",
       "      <td>Chelsea</td>\n",
       "      <td>38</td>\n",
       "      <td>18</td>\n",
       "      <td>9</td>\n",
       "      <td>11</td>\n",
       "      <td>77</td>\n",
       "      <td>63</td>\n",
       "      <td>14</td>\n",
       "      <td>63</td>\n",
       "    </tr>\n",
       "    <tr>\n",
       "      <th>6</th>\n",
       "      <td>Newcastle</td>\n",
       "      <td>38</td>\n",
       "      <td>18</td>\n",
       "      <td>6</td>\n",
       "      <td>14</td>\n",
       "      <td>85</td>\n",
       "      <td>62</td>\n",
       "      <td>23</td>\n",
       "      <td>60</td>\n",
       "    </tr>\n",
       "    <tr>\n",
       "      <th>7</th>\n",
       "      <td>Man United</td>\n",
       "      <td>38</td>\n",
       "      <td>18</td>\n",
       "      <td>6</td>\n",
       "      <td>14</td>\n",
       "      <td>57</td>\n",
       "      <td>58</td>\n",
       "      <td>-1</td>\n",
       "      <td>60</td>\n",
       "    </tr>\n",
       "    <tr>\n",
       "      <th>8</th>\n",
       "      <td>West Ham</td>\n",
       "      <td>38</td>\n",
       "      <td>14</td>\n",
       "      <td>10</td>\n",
       "      <td>14</td>\n",
       "      <td>60</td>\n",
       "      <td>74</td>\n",
       "      <td>-14</td>\n",
       "      <td>52</td>\n",
       "    </tr>\n",
       "    <tr>\n",
       "      <th>9</th>\n",
       "      <td>Crystal Palace</td>\n",
       "      <td>38</td>\n",
       "      <td>13</td>\n",
       "      <td>10</td>\n",
       "      <td>15</td>\n",
       "      <td>57</td>\n",
       "      <td>58</td>\n",
       "      <td>-1</td>\n",
       "      <td>49</td>\n",
       "    </tr>\n",
       "    <tr>\n",
       "      <th>10</th>\n",
       "      <td>Brighton Hove</td>\n",
       "      <td>38</td>\n",
       "      <td>12</td>\n",
       "      <td>12</td>\n",
       "      <td>14</td>\n",
       "      <td>55</td>\n",
       "      <td>62</td>\n",
       "      <td>-7</td>\n",
       "      <td>48</td>\n",
       "    </tr>\n",
       "    <tr>\n",
       "      <th>11</th>\n",
       "      <td>Everton</td>\n",
       "      <td>38</td>\n",
       "      <td>13</td>\n",
       "      <td>9</td>\n",
       "      <td>16</td>\n",
       "      <td>40</td>\n",
       "      <td>51</td>\n",
       "      <td>-11</td>\n",
       "      <td>48</td>\n",
       "    </tr>\n",
       "    <tr>\n",
       "      <th>12</th>\n",
       "      <td>Bournemouth</td>\n",
       "      <td>38</td>\n",
       "      <td>13</td>\n",
       "      <td>9</td>\n",
       "      <td>16</td>\n",
       "      <td>54</td>\n",
       "      <td>67</td>\n",
       "      <td>-13</td>\n",
       "      <td>48</td>\n",
       "    </tr>\n",
       "    <tr>\n",
       "      <th>13</th>\n",
       "      <td>Fulham</td>\n",
       "      <td>38</td>\n",
       "      <td>13</td>\n",
       "      <td>8</td>\n",
       "      <td>17</td>\n",
       "      <td>55</td>\n",
       "      <td>61</td>\n",
       "      <td>-6</td>\n",
       "      <td>47</td>\n",
       "    </tr>\n",
       "    <tr>\n",
       "      <th>14</th>\n",
       "      <td>Wolverhampton</td>\n",
       "      <td>38</td>\n",
       "      <td>13</td>\n",
       "      <td>7</td>\n",
       "      <td>18</td>\n",
       "      <td>50</td>\n",
       "      <td>65</td>\n",
       "      <td>-15</td>\n",
       "      <td>46</td>\n",
       "    </tr>\n",
       "    <tr>\n",
       "      <th>15</th>\n",
       "      <td>Brentford</td>\n",
       "      <td>38</td>\n",
       "      <td>10</td>\n",
       "      <td>9</td>\n",
       "      <td>19</td>\n",
       "      <td>56</td>\n",
       "      <td>65</td>\n",
       "      <td>-9</td>\n",
       "      <td>39</td>\n",
       "    </tr>\n",
       "    <tr>\n",
       "      <th>16</th>\n",
       "      <td>Nottingham</td>\n",
       "      <td>38</td>\n",
       "      <td>9</td>\n",
       "      <td>9</td>\n",
       "      <td>20</td>\n",
       "      <td>49</td>\n",
       "      <td>67</td>\n",
       "      <td>-18</td>\n",
       "      <td>36</td>\n",
       "    </tr>\n",
       "    <tr>\n",
       "      <th>17</th>\n",
       "      <td>Luton Town</td>\n",
       "      <td>38</td>\n",
       "      <td>6</td>\n",
       "      <td>8</td>\n",
       "      <td>24</td>\n",
       "      <td>52</td>\n",
       "      <td>85</td>\n",
       "      <td>-33</td>\n",
       "      <td>26</td>\n",
       "    </tr>\n",
       "    <tr>\n",
       "      <th>18</th>\n",
       "      <td>Burnley</td>\n",
       "      <td>38</td>\n",
       "      <td>5</td>\n",
       "      <td>9</td>\n",
       "      <td>24</td>\n",
       "      <td>41</td>\n",
       "      <td>78</td>\n",
       "      <td>-37</td>\n",
       "      <td>24</td>\n",
       "    </tr>\n",
       "    <tr>\n",
       "      <th>19</th>\n",
       "      <td>Sheffield Utd</td>\n",
       "      <td>38</td>\n",
       "      <td>3</td>\n",
       "      <td>7</td>\n",
       "      <td>28</td>\n",
       "      <td>35</td>\n",
       "      <td>104</td>\n",
       "      <td>-69</td>\n",
       "      <td>16</td>\n",
       "    </tr>\n",
       "  </tbody>\n",
       "</table>\n",
       "</div>"
      ],
      "text/plain": [
       "              Team   P   W   D   L  GF   GA  GD  PTS\n",
       "0         Man City  38  28   7   3  96   34  62   91\n",
       "1          Arsenal  38  28   5   5  91   29  62   89\n",
       "2        Liverpool  38  24  10   4  86   41  45   82\n",
       "3      Aston Villa  38  20   8  10  76   61  15   68\n",
       "4        Tottenham  38  20   6  12  74   61  13   66\n",
       "5          Chelsea  38  18   9  11  77   63  14   63\n",
       "6        Newcastle  38  18   6  14  85   62  23   60\n",
       "7       Man United  38  18   6  14  57   58  -1   60\n",
       "8         West Ham  38  14  10  14  60   74 -14   52\n",
       "9   Crystal Palace  38  13  10  15  57   58  -1   49\n",
       "10   Brighton Hove  38  12  12  14  55   62  -7   48\n",
       "11         Everton  38  13   9  16  40   51 -11   48\n",
       "12     Bournemouth  38  13   9  16  54   67 -13   48\n",
       "13          Fulham  38  13   8  17  55   61  -6   47\n",
       "14   Wolverhampton  38  13   7  18  50   65 -15   46\n",
       "15       Brentford  38  10   9  19  56   65  -9   39\n",
       "16      Nottingham  38   9   9  20  49   67 -18   36\n",
       "17      Luton Town  38   6   8  24  52   85 -33   26\n",
       "18         Burnley  38   5   9  24  41   78 -37   24\n",
       "19   Sheffield Utd  38   3   7  28  35  104 -69   16"
      ]
     },
     "execution_count": 71,
     "metadata": {},
     "output_type": "execute_result"
    }
   ],
   "source": [
    "# Initialize an empty dataframe to accumulate league table stats\n",
    "teams = list(set(df['home_team']).union(df['away_team']))\n",
    "league_table = pd.DataFrame(index=teams, columns=['P', 'W', 'D', 'L', 'GF', 'GA', 'GD', 'PTS'])\n",
    "\n",
    "# Fill the league table with initial values\n",
    "league_table = league_table.fillna(0)\n",
    "\n",
    "\n",
    "# Loop through each row in the dataset to update the league table stats\n",
    "for _, row in df.iterrows():\n",
    "    home_team, away_team = row['home_team'], row['away_team']\n",
    "    home_goals, away_goals = row['home_score_full_time'], row['away_score_full_time']\n",
    "\n",
    "    # Update matches played\n",
    "    league_table.loc[home_team, 'P'] += 1\n",
    "    league_table.loc[away_team, 'P'] += 1\n",
    "\n",
    "    # Update goals scored and conceded\n",
    "    league_table.loc[home_team, 'GF'] += home_goals\n",
    "    league_table.loc[home_team, 'GA'] += away_goals\n",
    "    league_table.loc[away_team, 'GF'] += away_goals\n",
    "    league_table.loc[away_team, 'GA'] += home_goals\n",
    "\n",
    "    # Update wins, draws, losses, and points\n",
    "    if home_goals > away_goals:  # Home win\n",
    "        league_table.loc[home_team, 'W'] += 1\n",
    "        league_table.loc[away_team, 'L'] += 1\n",
    "        league_table.loc[home_team, 'PTS'] += 3\n",
    "    elif home_goals < away_goals:  # Away win\n",
    "        league_table.loc[away_team, 'W'] += 1\n",
    "        league_table.loc[home_team, 'L'] += 1\n",
    "        league_table.loc[away_team, 'PTS'] += 3\n",
    "    else:  # Draw\n",
    "        league_table.loc[home_team, 'D'] += 1\n",
    "        league_table.loc[away_team, 'D'] += 1\n",
    "        league_table.loc[home_team, 'PTS'] += 1\n",
    "        league_table.loc[away_team, 'PTS'] += 1\n",
    "\n",
    "# Calculate goal difference\n",
    "league_table['GD'] = league_table['GF'] - league_table['GA']\n",
    "\n",
    "# Sort by points, then goal difference, and then goals scored\n",
    "league_table = league_table.sort_values(by=['PTS', 'GD', 'GF'], ascending=False).reset_index()\n",
    "league_table.rename(columns={'index': 'Team'}, inplace=True)\n",
    "\n",
    "# Display the league table\n",
    "league_table\n"
   ]
  },
  {
   "cell_type": "code",
   "execution_count": 39,
   "metadata": {},
   "outputs": [
    {
     "data": {
      "text/html": [
       "<div>\n",
       "<style scoped>\n",
       "    .dataframe tbody tr th:only-of-type {\n",
       "        vertical-align: middle;\n",
       "    }\n",
       "\n",
       "    .dataframe tbody tr th {\n",
       "        vertical-align: top;\n",
       "    }\n",
       "\n",
       "    .dataframe thead th {\n",
       "        text-align: right;\n",
       "    }\n",
       "</style>\n",
       "<table border=\"1\" class=\"dataframe\">\n",
       "  <thead>\n",
       "    <tr style=\"text-align: right;\">\n",
       "      <th></th>\n",
       "      <th>date</th>\n",
       "      <th>matchday</th>\n",
       "      <th>home_team</th>\n",
       "      <th>away_team</th>\n",
       "      <th>home_score_full_time</th>\n",
       "      <th>away_score_full_time</th>\n",
       "      <th>home_score_half_time</th>\n",
       "      <th>away_score_half_time</th>\n",
       "      <th>goal_diff</th>\n",
       "      <th>winner</th>\n",
       "      <th>defeat</th>\n",
       "      <th>ref</th>\n",
       "    </tr>\n",
       "  </thead>\n",
       "  <tbody>\n",
       "    <tr>\n",
       "      <th>9</th>\n",
       "      <td>2023-08-14T19:00:00Z</td>\n",
       "      <td>1</td>\n",
       "      <td>Man United</td>\n",
       "      <td>Wolverhampton</td>\n",
       "      <td>1</td>\n",
       "      <td>0</td>\n",
       "      <td>0</td>\n",
       "      <td>0</td>\n",
       "      <td>1</td>\n",
       "      <td>Man United</td>\n",
       "      <td>Wolverhampton</td>\n",
       "      <td>Simon Hooper</td>\n",
       "    </tr>\n",
       "    <tr>\n",
       "      <th>22</th>\n",
       "      <td>2023-08-26T14:00:00Z</td>\n",
       "      <td>3</td>\n",
       "      <td>Man United</td>\n",
       "      <td>Nottingham</td>\n",
       "      <td>3</td>\n",
       "      <td>2</td>\n",
       "      <td>1</td>\n",
       "      <td>2</td>\n",
       "      <td>1</td>\n",
       "      <td>Man United</td>\n",
       "      <td>Nottingham</td>\n",
       "      <td>Stuart Attwell</td>\n",
       "    </tr>\n",
       "    <tr>\n",
       "      <th>74</th>\n",
       "      <td>2023-10-07T14:00:00Z</td>\n",
       "      <td>8</td>\n",
       "      <td>Man United</td>\n",
       "      <td>Brentford</td>\n",
       "      <td>2</td>\n",
       "      <td>1</td>\n",
       "      <td>0</td>\n",
       "      <td>1</td>\n",
       "      <td>1</td>\n",
       "      <td>Man United</td>\n",
       "      <td>Brentford</td>\n",
       "      <td>Bobby Madley</td>\n",
       "    </tr>\n",
       "    <tr>\n",
       "      <th>113</th>\n",
       "      <td>2023-11-11T15:00:00Z</td>\n",
       "      <td>12</td>\n",
       "      <td>Man United</td>\n",
       "      <td>Luton Town</td>\n",
       "      <td>1</td>\n",
       "      <td>0</td>\n",
       "      <td>0</td>\n",
       "      <td>0</td>\n",
       "      <td>1</td>\n",
       "      <td>Man United</td>\n",
       "      <td>Luton Town</td>\n",
       "      <td>Graham Scott</td>\n",
       "    </tr>\n",
       "    <tr>\n",
       "      <th>147</th>\n",
       "      <td>2023-12-06T20:15:00Z</td>\n",
       "      <td>15</td>\n",
       "      <td>Man United</td>\n",
       "      <td>Chelsea</td>\n",
       "      <td>2</td>\n",
       "      <td>1</td>\n",
       "      <td>1</td>\n",
       "      <td>1</td>\n",
       "      <td>1</td>\n",
       "      <td>Man United</td>\n",
       "      <td>Chelsea</td>\n",
       "      <td>Chris Kavanagh</td>\n",
       "    </tr>\n",
       "    <tr>\n",
       "      <th>182</th>\n",
       "      <td>2023-12-26T20:00:00Z</td>\n",
       "      <td>19</td>\n",
       "      <td>Man United</td>\n",
       "      <td>Aston Villa</td>\n",
       "      <td>3</td>\n",
       "      <td>2</td>\n",
       "      <td>0</td>\n",
       "      <td>2</td>\n",
       "      <td>1</td>\n",
       "      <td>Man United</td>\n",
       "      <td>Aston Villa</td>\n",
       "      <td>Craig Pawson</td>\n",
       "    </tr>\n",
       "    <tr>\n",
       "      <th>225</th>\n",
       "      <td>2024-02-04T14:00:00Z</td>\n",
       "      <td>23</td>\n",
       "      <td>Man United</td>\n",
       "      <td>West Ham</td>\n",
       "      <td>3</td>\n",
       "      <td>0</td>\n",
       "      <td>1</td>\n",
       "      <td>0</td>\n",
       "      <td>3</td>\n",
       "      <td>Man United</td>\n",
       "      <td>West Ham</td>\n",
       "      <td>Andy Madley</td>\n",
       "    </tr>\n",
       "    <tr>\n",
       "      <th>268</th>\n",
       "      <td>2024-03-09T12:30:00Z</td>\n",
       "      <td>28</td>\n",
       "      <td>Man United</td>\n",
       "      <td>Everton</td>\n",
       "      <td>2</td>\n",
       "      <td>0</td>\n",
       "      <td>2</td>\n",
       "      <td>0</td>\n",
       "      <td>2</td>\n",
       "      <td>Man United</td>\n",
       "      <td>Everton</td>\n",
       "      <td>Simon Hooper</td>\n",
       "    </tr>\n",
       "    <tr>\n",
       "      <th>334</th>\n",
       "      <td>2024-04-24T19:00:00Z</td>\n",
       "      <td>29</td>\n",
       "      <td>Man United</td>\n",
       "      <td>Sheffield Utd</td>\n",
       "      <td>4</td>\n",
       "      <td>2</td>\n",
       "      <td>1</td>\n",
       "      <td>1</td>\n",
       "      <td>2</td>\n",
       "      <td>Man United</td>\n",
       "      <td>Sheffield Utd</td>\n",
       "      <td>Michael Salisbury</td>\n",
       "    </tr>\n",
       "    <tr>\n",
       "      <th>369</th>\n",
       "      <td>2024-05-15T19:00:00Z</td>\n",
       "      <td>34</td>\n",
       "      <td>Man United</td>\n",
       "      <td>Newcastle</td>\n",
       "      <td>3</td>\n",
       "      <td>2</td>\n",
       "      <td>1</td>\n",
       "      <td>0</td>\n",
       "      <td>1</td>\n",
       "      <td>Man United</td>\n",
       "      <td>Newcastle</td>\n",
       "      <td>Robert Jones</td>\n",
       "    </tr>\n",
       "  </tbody>\n",
       "</table>\n",
       "</div>"
      ],
      "text/plain": [
       "                     date  matchday   home_team      away_team  \\\n",
       "9    2023-08-14T19:00:00Z         1  Man United  Wolverhampton   \n",
       "22   2023-08-26T14:00:00Z         3  Man United     Nottingham   \n",
       "74   2023-10-07T14:00:00Z         8  Man United      Brentford   \n",
       "113  2023-11-11T15:00:00Z        12  Man United     Luton Town   \n",
       "147  2023-12-06T20:15:00Z        15  Man United        Chelsea   \n",
       "182  2023-12-26T20:00:00Z        19  Man United    Aston Villa   \n",
       "225  2024-02-04T14:00:00Z        23  Man United       West Ham   \n",
       "268  2024-03-09T12:30:00Z        28  Man United        Everton   \n",
       "334  2024-04-24T19:00:00Z        29  Man United  Sheffield Utd   \n",
       "369  2024-05-15T19:00:00Z        34  Man United      Newcastle   \n",
       "\n",
       "     home_score_full_time  away_score_full_time  home_score_half_time  \\\n",
       "9                       1                     0                     0   \n",
       "22                      3                     2                     1   \n",
       "74                      2                     1                     0   \n",
       "113                     1                     0                     0   \n",
       "147                     2                     1                     1   \n",
       "182                     3                     2                     0   \n",
       "225                     3                     0                     1   \n",
       "268                     2                     0                     2   \n",
       "334                     4                     2                     1   \n",
       "369                     3                     2                     1   \n",
       "\n",
       "     away_score_half_time  goal_diff      winner         defeat  \\\n",
       "9                       0          1  Man United  Wolverhampton   \n",
       "22                      2          1  Man United     Nottingham   \n",
       "74                      1          1  Man United      Brentford   \n",
       "113                     0          1  Man United     Luton Town   \n",
       "147                     1          1  Man United        Chelsea   \n",
       "182                     2          1  Man United    Aston Villa   \n",
       "225                     0          3  Man United       West Ham   \n",
       "268                     0          2  Man United        Everton   \n",
       "334                     1          2  Man United  Sheffield Utd   \n",
       "369                     0          1  Man United      Newcastle   \n",
       "\n",
       "                   ref  \n",
       "9         Simon Hooper  \n",
       "22      Stuart Attwell  \n",
       "74        Bobby Madley  \n",
       "113       Graham Scott  \n",
       "147     Chris Kavanagh  \n",
       "182       Craig Pawson  \n",
       "225        Andy Madley  \n",
       "268       Simon Hooper  \n",
       "334  Michael Salisbury  \n",
       "369       Robert Jones  "
      ]
     },
     "metadata": {},
     "output_type": "display_data"
    }
   ],
   "source": [
    "man_utd_home_wins = df[\n",
    "    (df['home_team'] == 'Man United') & \n",
    "    (df['home_score_full_time'] > df['away_score_full_time'])]\n",
    "display(man_utd_home_wins)"
   ]
  },
  {
   "cell_type": "code",
   "execution_count": 41,
   "metadata": {},
   "outputs": [
    {
     "data": {
      "text/html": [
       "<div>\n",
       "<style scoped>\n",
       "    .dataframe tbody tr th:only-of-type {\n",
       "        vertical-align: middle;\n",
       "    }\n",
       "\n",
       "    .dataframe tbody tr th {\n",
       "        vertical-align: top;\n",
       "    }\n",
       "\n",
       "    .dataframe thead th {\n",
       "        text-align: right;\n",
       "    }\n",
       "</style>\n",
       "<table border=\"1\" class=\"dataframe\">\n",
       "  <thead>\n",
       "    <tr style=\"text-align: right;\">\n",
       "      <th></th>\n",
       "      <th>date</th>\n",
       "      <th>matchday</th>\n",
       "      <th>home_team</th>\n",
       "      <th>away_team</th>\n",
       "      <th>home_score_full_time</th>\n",
       "      <th>away_score_full_time</th>\n",
       "      <th>home_score_half_time</th>\n",
       "      <th>away_score_half_time</th>\n",
       "      <th>goal_diff</th>\n",
       "      <th>winner</th>\n",
       "      <th>defeat</th>\n",
       "      <th>ref</th>\n",
       "    </tr>\n",
       "  </thead>\n",
       "  <tbody>\n",
       "    <tr>\n",
       "      <th>53</th>\n",
       "      <td>2023-09-23T19:00:00Z</td>\n",
       "      <td>6</td>\n",
       "      <td>Burnley</td>\n",
       "      <td>Man United</td>\n",
       "      <td>0</td>\n",
       "      <td>1</td>\n",
       "      <td>0</td>\n",
       "      <td>1</td>\n",
       "      <td>1</td>\n",
       "      <td>Man United</td>\n",
       "      <td>Burnley</td>\n",
       "      <td>Tony Harrington</td>\n",
       "    </tr>\n",
       "    <tr>\n",
       "      <th>87</th>\n",
       "      <td>2023-10-21T19:00:00Z</td>\n",
       "      <td>9</td>\n",
       "      <td>Sheffield Utd</td>\n",
       "      <td>Man United</td>\n",
       "      <td>1</td>\n",
       "      <td>2</td>\n",
       "      <td>1</td>\n",
       "      <td>1</td>\n",
       "      <td>1</td>\n",
       "      <td>Man United</td>\n",
       "      <td>Sheffield Utd</td>\n",
       "      <td>Michael Oliver</td>\n",
       "    </tr>\n",
       "    <tr>\n",
       "      <th>100</th>\n",
       "      <td>2023-11-04T12:30:00Z</td>\n",
       "      <td>11</td>\n",
       "      <td>Fulham</td>\n",
       "      <td>Man United</td>\n",
       "      <td>0</td>\n",
       "      <td>1</td>\n",
       "      <td>0</td>\n",
       "      <td>0</td>\n",
       "      <td>1</td>\n",
       "      <td>Man United</td>\n",
       "      <td>Fulham</td>\n",
       "      <td>John Brooks</td>\n",
       "    </tr>\n",
       "    <tr>\n",
       "      <th>128</th>\n",
       "      <td>2023-11-26T16:30:00Z</td>\n",
       "      <td>13</td>\n",
       "      <td>Everton</td>\n",
       "      <td>Man United</td>\n",
       "      <td>0</td>\n",
       "      <td>3</td>\n",
       "      <td>0</td>\n",
       "      <td>1</td>\n",
       "      <td>3</td>\n",
       "      <td>Man United</td>\n",
       "      <td>Everton</td>\n",
       "      <td>John Brooks</td>\n",
       "    </tr>\n",
       "    <tr>\n",
       "      <th>217</th>\n",
       "      <td>2024-02-01T20:15:00Z</td>\n",
       "      <td>22</td>\n",
       "      <td>Wolverhampton</td>\n",
       "      <td>Man United</td>\n",
       "      <td>3</td>\n",
       "      <td>4</td>\n",
       "      <td>0</td>\n",
       "      <td>2</td>\n",
       "      <td>1</td>\n",
       "      <td>Man United</td>\n",
       "      <td>Wolverhampton</td>\n",
       "      <td>Jarred Gillett</td>\n",
       "    </tr>\n",
       "    <tr>\n",
       "      <th>236</th>\n",
       "      <td>2024-02-11T16:30:00Z</td>\n",
       "      <td>24</td>\n",
       "      <td>Aston Villa</td>\n",
       "      <td>Man United</td>\n",
       "      <td>1</td>\n",
       "      <td>2</td>\n",
       "      <td>0</td>\n",
       "      <td>1</td>\n",
       "      <td>1</td>\n",
       "      <td>Man United</td>\n",
       "      <td>Aston Villa</td>\n",
       "      <td>Robert Jones</td>\n",
       "    </tr>\n",
       "    <tr>\n",
       "      <th>246</th>\n",
       "      <td>2024-02-18T16:30:00Z</td>\n",
       "      <td>25</td>\n",
       "      <td>Luton Town</td>\n",
       "      <td>Man United</td>\n",
       "      <td>1</td>\n",
       "      <td>2</td>\n",
       "      <td>1</td>\n",
       "      <td>2</td>\n",
       "      <td>1</td>\n",
       "      <td>Man United</td>\n",
       "      <td>Luton Town</td>\n",
       "      <td>David Coote</td>\n",
       "    </tr>\n",
       "    <tr>\n",
       "      <th>372</th>\n",
       "      <td>2024-05-19T15:00:00Z</td>\n",
       "      <td>38</td>\n",
       "      <td>Brighton Hove</td>\n",
       "      <td>Man United</td>\n",
       "      <td>0</td>\n",
       "      <td>2</td>\n",
       "      <td>0</td>\n",
       "      <td>0</td>\n",
       "      <td>2</td>\n",
       "      <td>Man United</td>\n",
       "      <td>Brighton Hove</td>\n",
       "      <td>Craig Pawson</td>\n",
       "    </tr>\n",
       "  </tbody>\n",
       "</table>\n",
       "</div>"
      ],
      "text/plain": [
       "                     date  matchday      home_team   away_team  \\\n",
       "53   2023-09-23T19:00:00Z         6        Burnley  Man United   \n",
       "87   2023-10-21T19:00:00Z         9  Sheffield Utd  Man United   \n",
       "100  2023-11-04T12:30:00Z        11         Fulham  Man United   \n",
       "128  2023-11-26T16:30:00Z        13        Everton  Man United   \n",
       "217  2024-02-01T20:15:00Z        22  Wolverhampton  Man United   \n",
       "236  2024-02-11T16:30:00Z        24    Aston Villa  Man United   \n",
       "246  2024-02-18T16:30:00Z        25     Luton Town  Man United   \n",
       "372  2024-05-19T15:00:00Z        38  Brighton Hove  Man United   \n",
       "\n",
       "     home_score_full_time  away_score_full_time  home_score_half_time  \\\n",
       "53                      0                     1                     0   \n",
       "87                      1                     2                     1   \n",
       "100                     0                     1                     0   \n",
       "128                     0                     3                     0   \n",
       "217                     3                     4                     0   \n",
       "236                     1                     2                     0   \n",
       "246                     1                     2                     1   \n",
       "372                     0                     2                     0   \n",
       "\n",
       "     away_score_half_time  goal_diff      winner         defeat  \\\n",
       "53                      1          1  Man United        Burnley   \n",
       "87                      1          1  Man United  Sheffield Utd   \n",
       "100                     0          1  Man United         Fulham   \n",
       "128                     1          3  Man United        Everton   \n",
       "217                     2          1  Man United  Wolverhampton   \n",
       "236                     1          1  Man United    Aston Villa   \n",
       "246                     2          1  Man United     Luton Town   \n",
       "372                     0          2  Man United  Brighton Hove   \n",
       "\n",
       "                 ref  \n",
       "53   Tony Harrington  \n",
       "87    Michael Oliver  \n",
       "100      John Brooks  \n",
       "128      John Brooks  \n",
       "217   Jarred Gillett  \n",
       "236     Robert Jones  \n",
       "246      David Coote  \n",
       "372     Craig Pawson  "
      ]
     },
     "metadata": {},
     "output_type": "display_data"
    }
   ],
   "source": [
    "man_utd_away_wins = df[\n",
    "    (df['away_team'] == 'Man United') & \n",
    "    (df['home_score_full_time'] < df['away_score_full_time'])]\n",
    "display(man_utd_away_wins)"
   ]
  },
  {
   "cell_type": "code",
   "execution_count": 44,
   "metadata": {},
   "outputs": [
    {
     "data": {
      "text/html": [
       "<div>\n",
       "<style scoped>\n",
       "    .dataframe tbody tr th:only-of-type {\n",
       "        vertical-align: middle;\n",
       "    }\n",
       "\n",
       "    .dataframe tbody tr th {\n",
       "        vertical-align: top;\n",
       "    }\n",
       "\n",
       "    .dataframe thead th {\n",
       "        text-align: right;\n",
       "    }\n",
       "</style>\n",
       "<table border=\"1\" class=\"dataframe\">\n",
       "  <thead>\n",
       "    <tr style=\"text-align: right;\">\n",
       "      <th></th>\n",
       "      <th>date</th>\n",
       "      <th>matchday</th>\n",
       "      <th>home_team</th>\n",
       "      <th>away_team</th>\n",
       "      <th>home_score_full_time</th>\n",
       "      <th>away_score_full_time</th>\n",
       "      <th>home_score_half_time</th>\n",
       "      <th>away_score_half_time</th>\n",
       "      <th>goal_diff</th>\n",
       "      <th>winner</th>\n",
       "      <th>defeat</th>\n",
       "      <th>ref</th>\n",
       "    </tr>\n",
       "  </thead>\n",
       "  <tbody>\n",
       "    <tr>\n",
       "      <th>202</th>\n",
       "      <td>2024-01-14T16:30:00Z</td>\n",
       "      <td>21</td>\n",
       "      <td>Man United</td>\n",
       "      <td>Tottenham</td>\n",
       "      <td>2</td>\n",
       "      <td>2</td>\n",
       "      <td>2</td>\n",
       "      <td>1</td>\n",
       "      <td>0</td>\n",
       "      <td>DRAW</td>\n",
       "      <td>DRAW</td>\n",
       "      <td>John Brooks</td>\n",
       "    </tr>\n",
       "    <tr>\n",
       "      <th>310</th>\n",
       "      <td>2024-04-07T14:30:00Z</td>\n",
       "      <td>32</td>\n",
       "      <td>Man United</td>\n",
       "      <td>Liverpool</td>\n",
       "      <td>2</td>\n",
       "      <td>2</td>\n",
       "      <td>0</td>\n",
       "      <td>1</td>\n",
       "      <td>0</td>\n",
       "      <td>DRAW</td>\n",
       "      <td>DRAW</td>\n",
       "      <td>Anthony Taylor</td>\n",
       "    </tr>\n",
       "    <tr>\n",
       "      <th>338</th>\n",
       "      <td>2024-04-27T14:00:00Z</td>\n",
       "      <td>35</td>\n",
       "      <td>Man United</td>\n",
       "      <td>Burnley</td>\n",
       "      <td>1</td>\n",
       "      <td>1</td>\n",
       "      <td>0</td>\n",
       "      <td>0</td>\n",
       "      <td>0</td>\n",
       "      <td>DRAW</td>\n",
       "      <td>DRAW</td>\n",
       "      <td>John Brooks</td>\n",
       "    </tr>\n",
       "  </tbody>\n",
       "</table>\n",
       "</div>"
      ],
      "text/plain": [
       "                     date  matchday   home_team  away_team  \\\n",
       "202  2024-01-14T16:30:00Z        21  Man United  Tottenham   \n",
       "310  2024-04-07T14:30:00Z        32  Man United  Liverpool   \n",
       "338  2024-04-27T14:00:00Z        35  Man United    Burnley   \n",
       "\n",
       "     home_score_full_time  away_score_full_time  home_score_half_time  \\\n",
       "202                     2                     2                     2   \n",
       "310                     2                     2                     0   \n",
       "338                     1                     1                     0   \n",
       "\n",
       "     away_score_half_time  goal_diff winner defeat             ref  \n",
       "202                     1          0   DRAW   DRAW     John Brooks  \n",
       "310                     1          0   DRAW   DRAW  Anthony Taylor  \n",
       "338                     0          0   DRAW   DRAW     John Brooks  "
      ]
     },
     "metadata": {},
     "output_type": "display_data"
    }
   ],
   "source": [
    "man_utd_home_draws = df[\n",
    "    (df['home_team'] == 'Man United') & \n",
    "    (df['home_score_full_time'] == df['away_score_full_time'])]\n",
    "display(man_utd_home_draws)"
   ]
  },
  {
   "cell_type": "code",
   "execution_count": 45,
   "metadata": {},
   "outputs": [
    {
     "data": {
      "text/html": [
       "<div>\n",
       "<style scoped>\n",
       "    .dataframe tbody tr th:only-of-type {\n",
       "        vertical-align: middle;\n",
       "    }\n",
       "\n",
       "    .dataframe tbody tr th {\n",
       "        vertical-align: top;\n",
       "    }\n",
       "\n",
       "    .dataframe thead th {\n",
       "        text-align: right;\n",
       "    }\n",
       "</style>\n",
       "<table border=\"1\" class=\"dataframe\">\n",
       "  <thead>\n",
       "    <tr style=\"text-align: right;\">\n",
       "      <th></th>\n",
       "      <th>date</th>\n",
       "      <th>matchday</th>\n",
       "      <th>home_team</th>\n",
       "      <th>away_team</th>\n",
       "      <th>home_score_full_time</th>\n",
       "      <th>away_score_full_time</th>\n",
       "      <th>home_score_half_time</th>\n",
       "      <th>away_score_half_time</th>\n",
       "      <th>goal_diff</th>\n",
       "      <th>winner</th>\n",
       "      <th>defeat</th>\n",
       "      <th>ref</th>\n",
       "    </tr>\n",
       "  </thead>\n",
       "  <tbody>\n",
       "    <tr>\n",
       "      <th>168</th>\n",
       "      <td>2023-12-17T16:30:00Z</td>\n",
       "      <td>17</td>\n",
       "      <td>Liverpool</td>\n",
       "      <td>Man United</td>\n",
       "      <td>0</td>\n",
       "      <td>0</td>\n",
       "      <td>0</td>\n",
       "      <td>0</td>\n",
       "      <td>0</td>\n",
       "      <td>DRAW</td>\n",
       "      <td>DRAW</td>\n",
       "      <td>Michael Oliver</td>\n",
       "    </tr>\n",
       "    <tr>\n",
       "      <th>290</th>\n",
       "      <td>2024-03-30T20:00:00Z</td>\n",
       "      <td>30</td>\n",
       "      <td>Brentford</td>\n",
       "      <td>Man United</td>\n",
       "      <td>1</td>\n",
       "      <td>1</td>\n",
       "      <td>0</td>\n",
       "      <td>0</td>\n",
       "      <td>0</td>\n",
       "      <td>DRAW</td>\n",
       "      <td>DRAW</td>\n",
       "      <td>Simon Hooper</td>\n",
       "    </tr>\n",
       "    <tr>\n",
       "      <th>318</th>\n",
       "      <td>2024-04-13T16:30:00Z</td>\n",
       "      <td>33</td>\n",
       "      <td>Bournemouth</td>\n",
       "      <td>Man United</td>\n",
       "      <td>2</td>\n",
       "      <td>2</td>\n",
       "      <td>2</td>\n",
       "      <td>1</td>\n",
       "      <td>0</td>\n",
       "      <td>DRAW</td>\n",
       "      <td>DRAW</td>\n",
       "      <td>Tony Harrington</td>\n",
       "    </tr>\n",
       "  </tbody>\n",
       "</table>\n",
       "</div>"
      ],
      "text/plain": [
       "                     date  matchday    home_team   away_team  \\\n",
       "168  2023-12-17T16:30:00Z        17    Liverpool  Man United   \n",
       "290  2024-03-30T20:00:00Z        30    Brentford  Man United   \n",
       "318  2024-04-13T16:30:00Z        33  Bournemouth  Man United   \n",
       "\n",
       "     home_score_full_time  away_score_full_time  home_score_half_time  \\\n",
       "168                     0                     0                     0   \n",
       "290                     1                     1                     0   \n",
       "318                     2                     2                     2   \n",
       "\n",
       "     away_score_half_time  goal_diff winner defeat              ref  \n",
       "168                     0          0   DRAW   DRAW   Michael Oliver  \n",
       "290                     0          0   DRAW   DRAW     Simon Hooper  \n",
       "318                     1          0   DRAW   DRAW  Tony Harrington  "
      ]
     },
     "metadata": {},
     "output_type": "display_data"
    }
   ],
   "source": [
    "man_utd_away_draws = df[\n",
    "    (df['away_team'] == 'Man United') & \n",
    "    (df['home_score_full_time'] == df['away_score_full_time'])]\n",
    "display(man_utd_away_draws)"
   ]
  },
  {
   "cell_type": "code",
   "execution_count": 53,
   "metadata": {},
   "outputs": [
    {
     "data": {
      "text/html": [
       "<div>\n",
       "<style scoped>\n",
       "    .dataframe tbody tr th:only-of-type {\n",
       "        vertical-align: middle;\n",
       "    }\n",
       "\n",
       "    .dataframe tbody tr th {\n",
       "        vertical-align: top;\n",
       "    }\n",
       "\n",
       "    .dataframe thead th {\n",
       "        text-align: right;\n",
       "    }\n",
       "</style>\n",
       "<table border=\"1\" class=\"dataframe\">\n",
       "  <thead>\n",
       "    <tr style=\"text-align: right;\">\n",
       "      <th></th>\n",
       "      <th>date</th>\n",
       "      <th>matchday</th>\n",
       "      <th>home_team</th>\n",
       "      <th>away_team</th>\n",
       "      <th>home_score_full_time</th>\n",
       "      <th>away_score_full_time</th>\n",
       "      <th>home_score_half_time</th>\n",
       "      <th>away_score_half_time</th>\n",
       "      <th>goal_diff</th>\n",
       "      <th>winner</th>\n",
       "      <th>defeat</th>\n",
       "      <th>ref</th>\n",
       "    </tr>\n",
       "  </thead>\n",
       "  <tbody>\n",
       "    <tr>\n",
       "      <th>42</th>\n",
       "      <td>2023-09-16T14:00:00Z</td>\n",
       "      <td>5</td>\n",
       "      <td>Man United</td>\n",
       "      <td>Brighton Hove</td>\n",
       "      <td>1</td>\n",
       "      <td>3</td>\n",
       "      <td>0</td>\n",
       "      <td>1</td>\n",
       "      <td>2</td>\n",
       "      <td>Brighton Hove</td>\n",
       "      <td>Man United</td>\n",
       "      <td>Jarred Gillett</td>\n",
       "    </tr>\n",
       "    <tr>\n",
       "      <th>62</th>\n",
       "      <td>2023-09-30T14:00:00Z</td>\n",
       "      <td>7</td>\n",
       "      <td>Man United</td>\n",
       "      <td>Crystal Palace</td>\n",
       "      <td>0</td>\n",
       "      <td>1</td>\n",
       "      <td>0</td>\n",
       "      <td>1</td>\n",
       "      <td>1</td>\n",
       "      <td>Crystal Palace</td>\n",
       "      <td>Man United</td>\n",
       "      <td>Chris Kavanagh</td>\n",
       "    </tr>\n",
       "    <tr>\n",
       "      <th>99</th>\n",
       "      <td>2023-10-29T15:30:00Z</td>\n",
       "      <td>10</td>\n",
       "      <td>Man United</td>\n",
       "      <td>Man City</td>\n",
       "      <td>0</td>\n",
       "      <td>3</td>\n",
       "      <td>0</td>\n",
       "      <td>1</td>\n",
       "      <td>3</td>\n",
       "      <td>Man City</td>\n",
       "      <td>Man United</td>\n",
       "      <td>Paul Tierney</td>\n",
       "    </tr>\n",
       "    <tr>\n",
       "      <th>152</th>\n",
       "      <td>2023-12-09T15:00:00Z</td>\n",
       "      <td>16</td>\n",
       "      <td>Man United</td>\n",
       "      <td>Bournemouth</td>\n",
       "      <td>0</td>\n",
       "      <td>3</td>\n",
       "      <td>0</td>\n",
       "      <td>1</td>\n",
       "      <td>3</td>\n",
       "      <td>Bournemouth</td>\n",
       "      <td>Man United</td>\n",
       "      <td>Peter Bankes</td>\n",
       "    </tr>\n",
       "    <tr>\n",
       "      <th>253</th>\n",
       "      <td>2024-02-24T15:00:00Z</td>\n",
       "      <td>26</td>\n",
       "      <td>Man United</td>\n",
       "      <td>Fulham</td>\n",
       "      <td>1</td>\n",
       "      <td>2</td>\n",
       "      <td>0</td>\n",
       "      <td>0</td>\n",
       "      <td>1</td>\n",
       "      <td>Fulham</td>\n",
       "      <td>Man United</td>\n",
       "      <td>Michael Oliver</td>\n",
       "    </tr>\n",
       "    <tr>\n",
       "      <th>365</th>\n",
       "      <td>2024-05-12T15:30:00Z</td>\n",
       "      <td>37</td>\n",
       "      <td>Man United</td>\n",
       "      <td>Arsenal</td>\n",
       "      <td>0</td>\n",
       "      <td>1</td>\n",
       "      <td>0</td>\n",
       "      <td>1</td>\n",
       "      <td>1</td>\n",
       "      <td>Arsenal</td>\n",
       "      <td>Man United</td>\n",
       "      <td>Paul Tierney</td>\n",
       "    </tr>\n",
       "  </tbody>\n",
       "</table>\n",
       "</div>"
      ],
      "text/plain": [
       "                     date  matchday   home_team       away_team  \\\n",
       "42   2023-09-16T14:00:00Z         5  Man United   Brighton Hove   \n",
       "62   2023-09-30T14:00:00Z         7  Man United  Crystal Palace   \n",
       "99   2023-10-29T15:30:00Z        10  Man United        Man City   \n",
       "152  2023-12-09T15:00:00Z        16  Man United     Bournemouth   \n",
       "253  2024-02-24T15:00:00Z        26  Man United          Fulham   \n",
       "365  2024-05-12T15:30:00Z        37  Man United         Arsenal   \n",
       "\n",
       "     home_score_full_time  away_score_full_time  home_score_half_time  \\\n",
       "42                      1                     3                     0   \n",
       "62                      0                     1                     0   \n",
       "99                      0                     3                     0   \n",
       "152                     0                     3                     0   \n",
       "253                     1                     2                     0   \n",
       "365                     0                     1                     0   \n",
       "\n",
       "     away_score_half_time  goal_diff          winner      defeat  \\\n",
       "42                      1          2   Brighton Hove  Man United   \n",
       "62                      1          1  Crystal Palace  Man United   \n",
       "99                      1          3        Man City  Man United   \n",
       "152                     1          3     Bournemouth  Man United   \n",
       "253                     0          1          Fulham  Man United   \n",
       "365                     1          1         Arsenal  Man United   \n",
       "\n",
       "                ref  \n",
       "42   Jarred Gillett  \n",
       "62   Chris Kavanagh  \n",
       "99     Paul Tierney  \n",
       "152    Peter Bankes  \n",
       "253  Michael Oliver  \n",
       "365    Paul Tierney  "
      ]
     },
     "metadata": {},
     "output_type": "display_data"
    }
   ],
   "source": [
    "man_utd_home_loss = df[\n",
    "    (df['home_team'] == 'Man United') & \n",
    "    (df['home_score_full_time'] < df['away_score_full_time'])]\n",
    "display(man_utd_home_loss)"
   ]
  },
  {
   "cell_type": "code",
   "execution_count": 54,
   "metadata": {},
   "outputs": [
    {
     "data": {
      "text/html": [
       "<div>\n",
       "<style scoped>\n",
       "    .dataframe tbody tr th:only-of-type {\n",
       "        vertical-align: middle;\n",
       "    }\n",
       "\n",
       "    .dataframe tbody tr th {\n",
       "        vertical-align: top;\n",
       "    }\n",
       "\n",
       "    .dataframe thead th {\n",
       "        text-align: right;\n",
       "    }\n",
       "</style>\n",
       "<table border=\"1\" class=\"dataframe\">\n",
       "  <thead>\n",
       "    <tr style=\"text-align: right;\">\n",
       "      <th></th>\n",
       "      <th>date</th>\n",
       "      <th>matchday</th>\n",
       "      <th>home_team</th>\n",
       "      <th>away_team</th>\n",
       "      <th>home_score_full_time</th>\n",
       "      <th>away_score_full_time</th>\n",
       "      <th>home_score_half_time</th>\n",
       "      <th>away_score_half_time</th>\n",
       "      <th>goal_diff</th>\n",
       "      <th>winner</th>\n",
       "      <th>defeat</th>\n",
       "      <th>ref</th>\n",
       "    </tr>\n",
       "  </thead>\n",
       "  <tbody>\n",
       "    <tr>\n",
       "      <th>14</th>\n",
       "      <td>2023-08-19T16:30:00Z</td>\n",
       "      <td>2</td>\n",
       "      <td>Tottenham</td>\n",
       "      <td>Man United</td>\n",
       "      <td>2</td>\n",
       "      <td>0</td>\n",
       "      <td>0</td>\n",
       "      <td>0</td>\n",
       "      <td>2</td>\n",
       "      <td>Tottenham</td>\n",
       "      <td>Man United</td>\n",
       "      <td>Michael Oliver</td>\n",
       "    </tr>\n",
       "    <tr>\n",
       "      <th>38</th>\n",
       "      <td>2023-09-03T15:30:00Z</td>\n",
       "      <td>4</td>\n",
       "      <td>Arsenal</td>\n",
       "      <td>Man United</td>\n",
       "      <td>3</td>\n",
       "      <td>1</td>\n",
       "      <td>1</td>\n",
       "      <td>1</td>\n",
       "      <td>2</td>\n",
       "      <td>Arsenal</td>\n",
       "      <td>Man United</td>\n",
       "      <td>Anthony Taylor</td>\n",
       "    </tr>\n",
       "    <tr>\n",
       "      <th>134</th>\n",
       "      <td>2023-12-02T20:00:00Z</td>\n",
       "      <td>14</td>\n",
       "      <td>Newcastle</td>\n",
       "      <td>Man United</td>\n",
       "      <td>1</td>\n",
       "      <td>0</td>\n",
       "      <td>0</td>\n",
       "      <td>0</td>\n",
       "      <td>1</td>\n",
       "      <td>Newcastle</td>\n",
       "      <td>Man United</td>\n",
       "      <td>Robert Jones</td>\n",
       "    </tr>\n",
       "    <tr>\n",
       "      <th>171</th>\n",
       "      <td>2023-12-23T12:30:00Z</td>\n",
       "      <td>18</td>\n",
       "      <td>West Ham</td>\n",
       "      <td>Man United</td>\n",
       "      <td>2</td>\n",
       "      <td>0</td>\n",
       "      <td>0</td>\n",
       "      <td>0</td>\n",
       "      <td>2</td>\n",
       "      <td>West Ham</td>\n",
       "      <td>Man United</td>\n",
       "      <td>Simon Hooper</td>\n",
       "    </tr>\n",
       "    <tr>\n",
       "      <th>193</th>\n",
       "      <td>2023-12-30T17:30:00Z</td>\n",
       "      <td>20</td>\n",
       "      <td>Nottingham</td>\n",
       "      <td>Man United</td>\n",
       "      <td>2</td>\n",
       "      <td>1</td>\n",
       "      <td>0</td>\n",
       "      <td>0</td>\n",
       "      <td>1</td>\n",
       "      <td>Nottingham</td>\n",
       "      <td>Man United</td>\n",
       "      <td>Tim Robinson</td>\n",
       "    </tr>\n",
       "    <tr>\n",
       "      <th>266</th>\n",
       "      <td>2024-03-03T15:30:00Z</td>\n",
       "      <td>27</td>\n",
       "      <td>Man City</td>\n",
       "      <td>Man United</td>\n",
       "      <td>3</td>\n",
       "      <td>1</td>\n",
       "      <td>0</td>\n",
       "      <td>1</td>\n",
       "      <td>2</td>\n",
       "      <td>Man City</td>\n",
       "      <td>Man United</td>\n",
       "      <td>Andy Madley</td>\n",
       "    </tr>\n",
       "    <tr>\n",
       "      <th>302</th>\n",
       "      <td>2024-04-04T19:15:00Z</td>\n",
       "      <td>31</td>\n",
       "      <td>Chelsea</td>\n",
       "      <td>Man United</td>\n",
       "      <td>4</td>\n",
       "      <td>3</td>\n",
       "      <td>2</td>\n",
       "      <td>2</td>\n",
       "      <td>1</td>\n",
       "      <td>Chelsea</td>\n",
       "      <td>Man United</td>\n",
       "      <td>Jarred Gillett</td>\n",
       "    </tr>\n",
       "    <tr>\n",
       "      <th>356</th>\n",
       "      <td>2024-05-06T19:00:00Z</td>\n",
       "      <td>36</td>\n",
       "      <td>Crystal Palace</td>\n",
       "      <td>Man United</td>\n",
       "      <td>4</td>\n",
       "      <td>0</td>\n",
       "      <td>2</td>\n",
       "      <td>0</td>\n",
       "      <td>4</td>\n",
       "      <td>Crystal Palace</td>\n",
       "      <td>Man United</td>\n",
       "      <td>Jarred Gillett</td>\n",
       "    </tr>\n",
       "  </tbody>\n",
       "</table>\n",
       "</div>"
      ],
      "text/plain": [
       "                     date  matchday       home_team   away_team  \\\n",
       "14   2023-08-19T16:30:00Z         2       Tottenham  Man United   \n",
       "38   2023-09-03T15:30:00Z         4         Arsenal  Man United   \n",
       "134  2023-12-02T20:00:00Z        14       Newcastle  Man United   \n",
       "171  2023-12-23T12:30:00Z        18        West Ham  Man United   \n",
       "193  2023-12-30T17:30:00Z        20      Nottingham  Man United   \n",
       "266  2024-03-03T15:30:00Z        27        Man City  Man United   \n",
       "302  2024-04-04T19:15:00Z        31         Chelsea  Man United   \n",
       "356  2024-05-06T19:00:00Z        36  Crystal Palace  Man United   \n",
       "\n",
       "     home_score_full_time  away_score_full_time  home_score_half_time  \\\n",
       "14                      2                     0                     0   \n",
       "38                      3                     1                     1   \n",
       "134                     1                     0                     0   \n",
       "171                     2                     0                     0   \n",
       "193                     2                     1                     0   \n",
       "266                     3                     1                     0   \n",
       "302                     4                     3                     2   \n",
       "356                     4                     0                     2   \n",
       "\n",
       "     away_score_half_time  goal_diff          winner      defeat  \\\n",
       "14                      0          2       Tottenham  Man United   \n",
       "38                      1          2         Arsenal  Man United   \n",
       "134                     0          1       Newcastle  Man United   \n",
       "171                     0          2        West Ham  Man United   \n",
       "193                     0          1      Nottingham  Man United   \n",
       "266                     1          2        Man City  Man United   \n",
       "302                     2          1         Chelsea  Man United   \n",
       "356                     0          4  Crystal Palace  Man United   \n",
       "\n",
       "                ref  \n",
       "14   Michael Oliver  \n",
       "38   Anthony Taylor  \n",
       "134    Robert Jones  \n",
       "171    Simon Hooper  \n",
       "193    Tim Robinson  \n",
       "266     Andy Madley  \n",
       "302  Jarred Gillett  \n",
       "356  Jarred Gillett  "
      ]
     },
     "metadata": {},
     "output_type": "display_data"
    }
   ],
   "source": [
    "man_utd_away_loss = df[\n",
    "    (df['away_team'] == 'Man United') & \n",
    "    (df['home_score_full_time'] > df['away_score_full_time'])]\n",
    "display(man_utd_away_loss)"
   ]
  },
  {
   "cell_type": "code",
   "execution_count": 55,
   "metadata": {},
   "outputs": [
    {
     "data": {
      "image/png": "[encoded data removed]",
      "text/plain": [
       "<Figure size 1000x800 with 1 Axes>"
      ]
     },
     "metadata": {},
     "output_type": "display_data"
    }
   ],
   "source": [
    " # Calculate total matches in each category\n",
    "total_home_wins = len(man_utd_home_wins)\n",
    "total_home_loss = len(man_utd_home_loss)\n",
    "total_away_wins = len(man_utd_away_wins)\n",
    "total_away_loss = len(man_utd_away_loss)\n",
    "total_home_draws = len(man_utd_home_draws)\n",
    "total_away_draws = len(man_utd_away_draws)\n",
    "\n",
    "# Create data for pie chart\n",
    "labels = ['Home Wins', 'Away Wins','Home Loss','Away Loss','Home Draws', 'Away Draws']\n",
    "values = [total_home_wins, total_away_wins, total_home_loss, total_away_loss, total_home_draws, total_away_draws]\n",
    "colors = ['#1f77b4', '#2ca02c', '#9467bd', '#8c564b', '#ff7f0e', '#d62728']\n",
    "\n",
    "plt.figure(figsize=(10, 8))\n",
    "plt.pie(values, labels=labels, colors=colors, autopct='%1.1f%%')\n",
    "plt.title('Manchester United Results Distribution')\n",
    "plt.show()"
   ]
  },
  {
   "cell_type": "code",
   "execution_count": 47,
   "metadata": {},
   "outputs": [
    {
     "data": {
      "image/png": "[encoded data removed]",
      "text/plain": [
       "<Figure size 1000x600 with 1 Axes>"
      ]
     },
     "metadata": {},
     "output_type": "display_data"
    }
   ],
   "source": [
    "# Calculate average goals\n",
    "home_avg_goals = man_utd_home_wins['home_score_full_time'].mean()\n",
    "away_avg_goals = man_utd_away_wins['away_score_full_time'].mean()\n",
    "\n",
    "plt.figure(figsize=(10, 6))\n",
    "bars = plt.bar(['Home Games', 'Away Games'], [home_avg_goals, away_avg_goals])\n",
    "plt.title('Average Goals Scored - Home vs Away')\n",
    "plt.ylabel('Average Goals')\n",
    "\n",
    "# Add value labels on top of bars\n",
    "for bar in bars:\n",
    "    height = bar.get_height()\n",
    "    plt.text(bar.get_x() + bar.get_width()/2., height,\n",
    "            f'{height:.2f}', ha='center', va='bottom')\n",
    "plt.show()"
   ]
  },
  {
   "cell_type": "code",
   "execution_count": 48,
   "metadata": {},
   "outputs": [
    {
     "data": {
      "image/png": "[encoded data removed]",
      "text/plain": [
       "<Figure size 1200x600 with 2 Axes>"
      ]
     },
     "metadata": {},
     "output_type": "display_data"
    }
   ],
   "source": [
    "plt.figure(figsize=(12, 6))\n",
    "    \n",
    "# Create subplot for home and away goals\n",
    "plt.subplot(1, 2, 1)\n",
    "sns.histplot(data=man_utd_home_wins, x='home_score_full_time', bins=10)\n",
    "plt.title('Goals Distribution - Home Wins')\n",
    "plt.xlabel('Goals Scored')\n",
    "\n",
    "plt.subplot(1, 2, 2)\n",
    "sns.histplot(data=man_utd_away_wins, x='away_score_full_time', bins=10)\n",
    "plt.title('Goals Distribution - Away Wins')\n",
    "plt.xlabel('Goals Scored')\n",
    "\n",
    "plt.tight_layout()\n",
    "plt.show()"
   ]
  },
  {
   "cell_type": "code",
   "execution_count": 56,
   "metadata": {},
   "outputs": [
    {
     "data": {
      "image/png": "[encoded data removed]",
      "text/plain": [
       "<Figure size 1200x600 with 2 Axes>"
      ]
     },
     "metadata": {},
     "output_type": "display_data"
    }
   ],
   "source": [
    "plt.figure(figsize=(12, 6))\n",
    "    \n",
    "# Create subplot for home and away goals\n",
    "plt.subplot(1, 2, 1)\n",
    "sns.histplot(data=man_utd_home_loss, x='home_score_full_time', bins=10)\n",
    "plt.title('Goals Distribution - Home Loss')\n",
    "plt.xlabel('Goals Scored')\n",
    "\n",
    "plt.subplot(1, 2, 2)\n",
    "sns.histplot(data=man_utd_away_loss, x='away_score_full_time', bins=10)\n",
    "plt.title('Goals Distribution - Away Loss')\n",
    "plt.xlabel('Goals Scored')\n",
    "\n",
    "plt.tight_layout()\n",
    "plt.show()"
   ]
  },
  {
   "cell_type": "code",
   "execution_count": 58,
   "metadata": {},
   "outputs": [
    {
     "data": {
      "application/vnd.plotly.v1+json": {
       "config": {
        "plotlyServerURL": "https://plot.ly"
       },
       "data": [
        {
         "hovertemplate": "Result=Home Win<br>date=%{x}<br>Goals_scored=%{y}<extra></extra>",
         "legendgroup": "Home Win",
         "marker": {
          "color": "#636efa",
          "symbol": "circle"
         },
         "mode": "markers",
         "name": "Home Win",
         "orientation": "v",
         "showlegend": true,
         "type": "scatter",
         "x": [
          "2023-08-14T19:00:00Z",
          "2023-08-26T14:00:00Z",
          "2023-10-07T14:00:00Z",
          "2023-11-11T15:00:00Z",
          "2023-12-06T20:15:00Z",
          "2023-12-26T20:00:00Z",
          "2024-02-04T14:00:00Z",
          "2024-03-09T12:30:00Z",
          "2024-04-24T19:00:00Z",
          "2024-05-15T19:00:00Z"
         ],
         "xaxis": "x",
         "y": [
          1,
          3,
          2,
          1,
          2,
          3,
          3,
          2,
          4,
          3
         ],
         "yaxis": "y"
        },
        {
         "hovertemplate": "Result=Away Loss<br>date=%{x}<br>Goals_scored=%{y}<extra></extra>",
         "legendgroup": "Away Loss",
         "marker": {
          "color": "#EF553B",
          "symbol": "circle"
         },
         "mode": "markers",
         "name": "Away Loss",
         "orientation": "v",
         "showlegend": true,
         "type": "scatter",
         "x": [
          "2023-08-19T16:30:00Z",
          "2023-09-03T15:30:00Z",
          "2023-12-02T20:00:00Z",
          "2023-12-23T12:30:00Z",
          "2023-12-30T17:30:00Z",
          "2024-03-03T15:30:00Z",
          "2024-04-04T19:15:00Z",
          "2024-05-06T19:00:00Z"
         ],
         "xaxis": "x",
         "y": [
          0,
          1,
          0,
          0,
          1,
          1,
          3,
          0
         ],
         "yaxis": "y"
        },
        {
         "hovertemplate": "Result=Home Loss<br>date=%{x}<br>Goals_scored=%{y}<extra></extra>",
         "legendgroup": "Home Loss",
         "marker": {
          "color": "#00cc96",
          "symbol": "circle"
         },
         "mode": "markers",
         "name": "Home Loss",
         "orientation": "v",
         "showlegend": true,
         "type": "scatter",
         "x": [
          "2023-09-16T14:00:00Z",
          "2023-09-30T14:00:00Z",
          "2023-10-29T15:30:00Z",
          "2023-12-09T15:00:00Z",
          "2024-02-24T15:00:00Z",
          "2024-05-12T15:30:00Z"
         ],
         "xaxis": "x",
         "y": [
          1,
          0,
          0,
          0,
          1,
          0
         ],
         "yaxis": "y"
        },
        {
         "hovertemplate": "Result=Away Win<br>date=%{x}<br>Goals_scored=%{y}<extra></extra>",
         "legendgroup": "Away Win",
         "marker": {
          "color": "#ab63fa",
          "symbol": "circle"
         },
         "mode": "markers",
         "name": "Away Win",
         "orientation": "v",
         "showlegend": true,
         "type": "scatter",
         "x": [
          "2023-09-23T19:00:00Z",
          "2023-10-21T19:00:00Z",
          "2023-11-04T12:30:00Z",
          "2023-11-26T16:30:00Z",
          "2024-02-01T20:15:00Z",
          "2024-02-11T16:30:00Z",
          "2024-02-18T16:30:00Z",
          "2024-05-19T15:00:00Z"
         ],
         "xaxis": "x",
         "y": [
          1,
          2,
          1,
          3,
          4,
          2,
          2,
          2
         ],
         "yaxis": "y"
        },
        {
         "hovertemplate": "Result=Away Draw<br>date=%{x}<br>Goals_scored=%{y}<extra></extra>",
         "legendgroup": "Away Draw",
         "marker": {
          "color": "#FFA15A",
          "symbol": "circle"
         },
         "mode": "markers",
         "name": "Away Draw",
         "orientation": "v",
         "showlegend": true,
         "type": "scatter",
         "x": [
          "2023-12-17T16:30:00Z",
          "2024-03-30T20:00:00Z",
          "2024-04-13T16:30:00Z"
         ],
         "xaxis": "x",
         "y": [
          0,
          1,
          2
         ],
         "yaxis": "y"
        },
        {
         "hovertemplate": "Result=Home Draw<br>date=%{x}<br>Goals_scored=%{y}<extra></extra>",
         "legendgroup": "Home Draw",
         "marker": {
          "color": "#19d3f3",
          "symbol": "circle"
         },
         "mode": "markers",
         "name": "Home Draw",
         "orientation": "v",
         "showlegend": true,
         "type": "scatter",
         "x": [
          "2024-01-14T16:30:00Z",
          "2024-04-07T14:30:00Z",
          "2024-04-27T14:00:00Z"
         ],
         "xaxis": "x",
         "y": [
          2,
          2,
          1
         ],
         "yaxis": "y"
        }
       ],
       "layout": {
        "legend": {
         "title": {
          "text": "Result"
         },
         "tracegroupgap": 0
        },
        "template": {
         "data": {
          "bar": [
           {
            "error_x": {
             "color": "#2a3f5f"
            },
            "error_y": {
             "color": "#2a3f5f"
            },
            "marker": {
             "line": {
              "color": "#E5ECF6",
              "width": 0.5
             },
             "pattern": {
              "fillmode": "overlay",
              "size": 10,
              "solidity": 0.2
             }
            },
            "type": "bar"
           }
          ],
          "barpolar": [
           {
            "marker": {
             "line": {
              "color": "#E5ECF6",
              "width": 0.5
             },
             "pattern": {
              "fillmode": "overlay",
              "size": 10,
              "solidity": 0.2
             }
            },
            "type": "barpolar"
           }
          ],
          "carpet": [
           {
            "aaxis": {
             "endlinecolor": "#2a3f5f",
             "gridcolor": "white",
             "linecolor": "white",
             "minorgridcolor": "white",
             "startlinecolor": "#2a3f5f"
            },
            "baxis": {
             "endlinecolor": "#2a3f5f",
             "gridcolor": "white",
             "linecolor": "white",
             "minorgridcolor": "white",
             "startlinecolor": "#2a3f5f"
            },
            "type": "carpet"
           }
          ],
          "choropleth": [
           {
            "colorbar": {
             "outlinewidth": 0,
             "ticks": ""
            },
            "type": "choropleth"
           }
          ],
          "contour": [
           {
            "colorbar": {
             "outlinewidth": 0,
             "ticks": ""
            },
            "colorscale": [
             [
              0,
              "#0d0887"
             ],
             [
              0.1111111111111111,
              "#46039f"
             ],
             [
              0.2222222222222222,
              "#7201a8"
             ],
             [
              0.3333333333333333,
              "#9c179e"
             ],
             [
              0.4444444444444444,
              "#bd3786"
             ],
             [
              0.5555555555555556,
              "#d8576b"
             ],
             [
              0.6666666666666666,
              "#ed7953"
             ],
             [
              0.7777777777777778,
              "#fb9f3a"
             ],
             [
              0.8888888888888888,
              "#fdca26"
             ],
             [
              1,
              "#f0f921"
             ]
            ],
            "type": "contour"
           }
          ],
          "contourcarpet": [
           {
            "colorbar": {
             "outlinewidth": 0,
             "ticks": ""
            },
            "type": "contourcarpet"
           }
          ],
          "heatmap": [
           {
            "colorbar": {
             "outlinewidth": 0,
             "ticks": ""
            },
            "colorscale": [
             [
              0,
              "#0d0887"
             ],
             [
              0.1111111111111111,
              "#46039f"
             ],
             [
              0.2222222222222222,
              "#7201a8"
             ],
             [
              0.3333333333333333,
              "#9c179e"
             ],
             [
              0.4444444444444444,
              "#bd3786"
             ],
             [
              0.5555555555555556,
              "#d8576b"
             ],
             [
              0.6666666666666666,
              "#ed7953"
             ],
             [
              0.7777777777777778,
              "#fb9f3a"
             ],
             [
              0.8888888888888888,
              "#fdca26"
             ],
             [
              1,
              "#f0f921"
             ]
            ],
            "type": "heatmap"
           }
          ],
          "heatmapgl": [
           {
            "colorbar": {
             "outlinewidth": 0,
             "ticks": ""
            },
            "colorscale": [
             [
              0,
              "#0d0887"
             ],
             [
              0.1111111111111111,
              "#46039f"
             ],
             [
              0.2222222222222222,
              "#7201a8"
             ],
             [
              0.3333333333333333,
              "#9c179e"
             ],
             [
              0.4444444444444444,
              "#bd3786"
             ],
             [
              0.5555555555555556,
              "#d8576b"
             ],
             [
              0.6666666666666666,
              "#ed7953"
             ],
             [
              0.7777777777777778,
              "#fb9f3a"
             ],
             [
              0.8888888888888888,
              "#fdca26"
             ],
             [
              1,
              "#f0f921"
             ]
            ],
            "type": "heatmapgl"
           }
          ],
          "histogram": [
           {
            "marker": {
             "pattern": {
              "fillmode": "overlay",
              "size": 10,
              "solidity": 0.2
             }
            },
            "type": "histogram"
           }
          ],
          "histogram2d": [
           {
            "colorbar": {
             "outlinewidth": 0,
             "ticks": ""
            },
            "colorscale": [
             [
              0,
              "#0d0887"
             ],
             [
              0.1111111111111111,
              "#46039f"
             ],
             [
              0.2222222222222222,
              "#7201a8"
             ],
             [
              0.3333333333333333,
              "#9c179e"
             ],
             [
              0.4444444444444444,
              "#bd3786"
             ],
             [
              0.5555555555555556,
              "#d8576b"
             ],
             [
              0.6666666666666666,
              "#ed7953"
             ],
             [
              0.7777777777777778,
              "#fb9f3a"
             ],
             [
              0.8888888888888888,
              "#fdca26"
             ],
             [
              1,
              "#f0f921"
             ]
            ],
            "type": "histogram2d"
           }
          ],
          "histogram2dcontour": [
           {
            "colorbar": {
             "outlinewidth": 0,
             "ticks": ""
            },
            "colorscale": [
             [
              0,
              "#0d0887"
             ],
             [
              0.1111111111111111,
              "#46039f"
             ],
             [
              0.2222222222222222,
              "#7201a8"
             ],
             [
              0.3333333333333333,
              "#9c179e"
             ],
             [
              0.4444444444444444,
              "#bd3786"
             ],
             [
              0.5555555555555556,
              "#d8576b"
             ],
             [
              0.6666666666666666,
              "#ed7953"
             ],
             [
              0.7777777777777778,
              "#fb9f3a"
             ],
             [
              0.8888888888888888,
              "#fdca26"
             ],
             [
              1,
              "#f0f921"
             ]
            ],
            "type": "histogram2dcontour"
           }
          ],
          "mesh3d": [
           {
            "colorbar": {
             "outlinewidth": 0,
             "ticks": ""
            },
            "type": "mesh3d"
           }
          ],
          "parcoords": [
           {
            "line": {
             "colorbar": {
              "outlinewidth": 0,
              "ticks": ""
             }
            },
            "type": "parcoords"
           }
          ],
          "pie": [
           {
            "automargin": true,
            "type": "pie"
           }
          ],
          "scatter": [
           {
            "fillpattern": {
             "fillmode": "overlay",
             "size": 10,
             "solidity": 0.2
            },
            "type": "scatter"
           }
          ],
          "scatter3d": [
           {
            "line": {
             "colorbar": {
              "outlinewidth": 0,
              "ticks": ""
             }
            },
            "marker": {
             "colorbar": {
              "outlinewidth": 0,
              "ticks": ""
             }
            },
            "type": "scatter3d"
           }
          ],
          "scattercarpet": [
           {
            "marker": {
             "colorbar": {
              "outlinewidth": 0,
              "ticks": ""
             }
            },
            "type": "scattercarpet"
           }
          ],
          "scattergeo": [
           {
            "marker": {
             "colorbar": {
              "outlinewidth": 0,
              "ticks": ""
             }
            },
            "type": "scattergeo"
           }
          ],
          "scattergl": [
           {
            "marker": {
             "colorbar": {
              "outlinewidth": 0,
              "ticks": ""
             }
            },
            "type": "scattergl"
           }
          ],
          "scattermapbox": [
           {
            "marker": {
             "colorbar": {
              "outlinewidth": 0,
              "ticks": ""
             }
            },
            "type": "scattermapbox"
           }
          ],
          "scatterpolar": [
           {
            "marker": {
             "colorbar": {
              "outlinewidth": 0,
              "ticks": ""
             }
            },
            "type": "scatterpolar"
           }
          ],
          "scatterpolargl": [
           {
            "marker": {
             "colorbar": {
              "outlinewidth": 0,
              "ticks": ""
             }
            },
            "type": "scatterpolargl"
           }
          ],
          "scatterternary": [
           {
            "marker": {
             "colorbar": {
              "outlinewidth": 0,
              "ticks": ""
             }
            },
            "type": "scatterternary"
           }
          ],
          "surface": [
           {
            "colorbar": {
             "outlinewidth": 0,
             "ticks": ""
            },
            "colorscale": [
             [
              0,
              "#0d0887"
             ],
             [
              0.1111111111111111,
              "#46039f"
             ],
             [
              0.2222222222222222,
              "#7201a8"
             ],
             [
              0.3333333333333333,
              "#9c179e"
             ],
             [
              0.4444444444444444,
              "#bd3786"
             ],
             [
              0.5555555555555556,
              "#d8576b"
             ],
             [
              0.6666666666666666,
              "#ed7953"
             ],
             [
              0.7777777777777778,
              "#fb9f3a"
             ],
             [
              0.8888888888888888,
              "#fdca26"
             ],
             [
              1,
              "#f0f921"
             ]
            ],
            "type": "surface"
           }
          ],
          "table": [
           {
            "cells": {
             "fill": {
              "color": "#EBF0F8"
             },
             "line": {
              "color": "white"
             }
            },
            "header": {
             "fill": {
              "color": "#C8D4E3"
             },
             "line": {
              "color": "white"
             }
            },
            "type": "table"
           }
          ]
         },
         "layout": {
          "annotationdefaults": {
           "arrowcolor": "#2a3f5f",
           "arrowhead": 0,
           "arrowwidth": 1
          },
          "autotypenumbers": "strict",
          "coloraxis": {
           "colorbar": {
            "outlinewidth": 0,
            "ticks": ""
           }
          },
          "colorscale": {
           "diverging": [
            [
             0,
             "#8e0152"
            ],
            [
             0.1,
             "#c51b7d"
            ],
            [
             0.2,
             "#de77ae"
            ],
            [
             0.3,
             "#f1b6da"
            ],
            [
             0.4,
             "#fde0ef"
            ],
            [
             0.5,
             "#f7f7f7"
            ],
            [
             0.6,
             "#e6f5d0"
            ],
            [
             0.7,
             "#b8e186"
            ],
            [
             0.8,
             "#7fbc41"
            ],
            [
             0.9,
             "#4d9221"
            ],
            [
             1,
             "#276419"
            ]
           ],
           "sequential": [
            [
             0,
             "#0d0887"
            ],
            [
             0.1111111111111111,
             "#46039f"
            ],
            [
             0.2222222222222222,
             "#7201a8"
            ],
            [
             0.3333333333333333,
             "#9c179e"
            ],
            [
             0.4444444444444444,
             "#bd3786"
            ],
            [
             0.5555555555555556,
             "#d8576b"
            ],
            [
             0.6666666666666666,
             "#ed7953"
            ],
            [
             0.7777777777777778,
             "#fb9f3a"
            ],
            [
             0.8888888888888888,
             "#fdca26"
            ],
            [
             1,
             "#f0f921"
            ]
           ],
           "sequentialminus": [
            [
             0,
             "#0d0887"
            ],
            [
             0.1111111111111111,
             "#46039f"
            ],
            [
             0.2222222222222222,
             "#7201a8"
            ],
            [
             0.3333333333333333,
             "#9c179e"
            ],
            [
             0.4444444444444444,
             "#bd3786"
            ],
            [
             0.5555555555555556,
             "#d8576b"
            ],
            [
             0.6666666666666666,
             "#ed7953"
            ],
            [
             0.7777777777777778,
             "#fb9f3a"
            ],
            [
             0.8888888888888888,
             "#fdca26"
            ],
            [
             1,
             "#f0f921"
            ]
           ]
          },
          "colorway": [
           "#636efa",
           "#EF553B",
           "#00cc96",
           "#ab63fa",
           "#FFA15A",
           "#19d3f3",
           "#FF6692",
           "#B6E880",
           "#FF97FF",
           "#FECB52"
          ],
          "font": {
           "color": "#2a3f5f"
          },
          "geo": {
           "bgcolor": "white",
           "lakecolor": "white",
           "landcolor": "#E5ECF6",
           "showlakes": true,
           "showland": true,
           "subunitcolor": "white"
          },
          "hoverlabel": {
           "align": "left"
          },
          "hovermode": "closest",
          "mapbox": {
           "style": "light"
          },
          "paper_bgcolor": "white",
          "plot_bgcolor": "#E5ECF6",
          "polar": {
           "angularaxis": {
            "gridcolor": "white",
            "linecolor": "white",
            "ticks": ""
           },
           "bgcolor": "#E5ECF6",
           "radialaxis": {
            "gridcolor": "white",
            "linecolor": "white",
            "ticks": ""
           }
          },
          "scene": {
           "xaxis": {
            "backgroundcolor": "#E5ECF6",
            "gridcolor": "white",
            "gridwidth": 2,
            "linecolor": "white",
            "showbackground": true,
            "ticks": "",
            "zerolinecolor": "white"
           },
           "yaxis": {
            "backgroundcolor": "#E5ECF6",
            "gridcolor": "white",
            "gridwidth": 2,
            "linecolor": "white",
            "showbackground": true,
            "ticks": "",
            "zerolinecolor": "white"
           },
           "zaxis": {
            "backgroundcolor": "#E5ECF6",
            "gridcolor": "white",
            "gridwidth": 2,
            "linecolor": "white",
            "showbackground": true,
            "ticks": "",
            "zerolinecolor": "white"
           }
          },
          "shapedefaults": {
           "line": {
            "color": "#2a3f5f"
           }
          },
          "ternary": {
           "aaxis": {
            "gridcolor": "white",
            "linecolor": "white",
            "ticks": ""
           },
           "baxis": {
            "gridcolor": "white",
            "linecolor": "white",
            "ticks": ""
           },
           "bgcolor": "#E5ECF6",
           "caxis": {
            "gridcolor": "white",
            "linecolor": "white",
            "ticks": ""
           }
          },
          "title": {
           "x": 0.05
          },
          "xaxis": {
           "automargin": true,
           "gridcolor": "white",
           "linecolor": "white",
           "ticks": "",
           "title": {
            "standoff": 15
           },
           "zerolinecolor": "white",
           "zerolinewidth": 2
          },
          "yaxis": {
           "automargin": true,
           "gridcolor": "white",
           "linecolor": "white",
           "ticks": "",
           "title": {
            "standoff": 15
           },
           "zerolinecolor": "white",
           "zerolinewidth": 2
          }
         }
        },
        "title": {
         "text": "Manchester United Results Timeline"
        },
        "xaxis": {
         "anchor": "y",
         "domain": [
          0,
          1
         ],
         "title": {
          "text": "date"
         }
        },
        "yaxis": {
         "anchor": "x",
         "domain": [
          0,
          1
         ],
         "title": {
          "text": "Goals_scored"
         }
        }
       }
      }
     },
     "metadata": {},
     "output_type": "display_data"
    }
   ],
   "source": [
    " # Combine all results with a 'Result' column\n",
    "home_wins = man_utd_home_wins.assign(Result='Home Win',Goals_scored = man_utd_home_wins['home_score_full_time'])\n",
    "away_wins = man_utd_away_wins.assign(Result='Away Win',Goals_scored = man_utd_away_wins['away_score_full_time'])\n",
    "home_loss = man_utd_home_loss.assign(Result='Home Loss',Goals_scored = man_utd_home_loss['home_score_full_time'])\n",
    "away_loss = man_utd_away_loss.assign(Result='Away Loss',Goals_scored = man_utd_away_loss['away_score_full_time'])\n",
    "home_draws = man_utd_home_draws.assign(Result='Home Draw',Goals_scored = man_utd_home_draws['home_score_full_time'])\n",
    "away_draws = man_utd_away_draws.assign(Result='Away Draw',Goals_scored = man_utd_away_draws['away_score_full_time'])\n",
    "\n",
    "all_results = pd.concat([home_wins, away_wins, home_loss, away_loss, home_draws, away_draws])\n",
    "all_results = all_results.sort_values('date')\n",
    "\n",
    "fig = px.scatter(all_results, x='date', y='Goals_scored',\n",
    "                color='Result',\n",
    "                title='Manchester United Results Timeline',\n",
    "                labels={'home_score_full_time': 'Goals Scored'})\n",
    "fig.show()"
   ]
  },
  {
   "cell_type": "code",
   "execution_count": 50,
   "metadata": {},
   "outputs": [
    {
     "data": {
      "image/png": "[encoded data removed]",
      "text/plain": [
       "<Figure size 1000x600 with 1 Axes>"
      ]
     },
     "metadata": {},
     "output_type": "display_data"
    }
   ],
   "source": [
    "# Calculate winning margins\n",
    "home_margins = man_utd_home_wins['home_score_full_time'] - man_utd_home_wins['away_score_full_time']\n",
    "away_margins = man_utd_away_wins['away_score_full_time'] - man_utd_away_wins['home_score_full_time']\n",
    "\n",
    "plt.figure(figsize=(10, 6))\n",
    "plt.hist([home_margins, away_margins], label=['Home Wins', 'Away Wins'], \n",
    "            bins=range(1, 8), alpha=0.7)\n",
    "plt.title('Win Margin Distribution')\n",
    "plt.xlabel('Margin of Victory')\n",
    "plt.ylabel('Number of Games')\n",
    "plt.legend()\n",
    "plt.show()"
   ]
  },
  {
   "cell_type": "code",
   "execution_count": 59,
   "metadata": {},
   "outputs": [
    {
     "data": {
      "image/png": "[encoded data removed]",
      "text/plain": [
       "<Figure size 1000x600 with 1 Axes>"
      ]
     },
     "metadata": {},
     "output_type": "display_data"
    }
   ],
   "source": [
    "# Calculate Losing margins\n",
    "home_margins = man_utd_home_loss['away_score_full_time'] - man_utd_home_loss['home_score_full_time']\n",
    "away_margins = man_utd_away_loss['home_score_full_time'] - man_utd_away_loss['away_score_full_time']\n",
    "\n",
    "plt.figure(figsize=(10, 6))\n",
    "plt.hist([home_margins, away_margins], label=['Home Loss', 'Away Loss'], \n",
    "            bins=range(1, 8), alpha=0.7)\n",
    "plt.title('Loss Margin Distribution')\n",
    "plt.xlabel('Margin of Losses')\n",
    "plt.ylabel('Number of Games')\n",
    "plt.legend()\n",
    "plt.show()"
   ]
  },
  {
   "cell_type": "code",
   "execution_count": null,
   "metadata": {},
   "outputs": [
    {
     "ename": "ValueError",
     "evalue": "\n    Invalid value of type 'builtins.str' received for the 'template' property of layout\n        Received value: 'plotly_black'\n\n    The 'template' property is an instance of Template\n    that may be specified as:\n      - An instance of :class:`plotly.graph_objs.layout.Template`\n      - A dict of string/value properties that will be passed\n        to the Template constructor\n\n        Supported dict properties:\n            \n            data\n                :class:`plotly.graph_objects.layout.template.Da\n                ta` instance or dict with compatible properties\n            layout\n                :class:`plotly.graph_objects.Layout` instance\n                or dict with compatible properties\n\n      - The name of a registered template where current registered templates\n        are stored in the plotly.io.templates configuration object. The names\n        of all registered templates can be retrieved with:\n            >>> import plotly.io as pio\n            >>> list(pio.templates)  # doctest: +ELLIPSIS\n            ['ggplot2', 'seaborn', 'simple_white', 'plotly', 'plotly_white', ...]\n\n      - A string containing multiple registered template names, joined on '+'\n        characters (e.g. 'template1+template2'). In this case the resulting\n        template is computed by merging together the collection of registered\n        templates",
     "output_type": "error",
     "traceback": [
      "\u001b[0;31m---------------------------------------------------------------------------\u001b[0m",
      "\u001b[0;31mValueError\u001b[0m                                Traceback (most recent call last)",
      "Cell \u001b[0;32mIn[72], line 15\u001b[0m\n\u001b[1;32m      9\u001b[0m \u001b[38;5;66;03m# Create an interactive bar chart showing number of matches officiated by each referee\u001b[39;00m\n\u001b[1;32m     10\u001b[0m fig \u001b[38;5;241m=\u001b[39m px\u001b[38;5;241m.\u001b[39mbar(ref_analysis, x\u001b[38;5;241m=\u001b[39m\u001b[38;5;124m'\u001b[39m\u001b[38;5;124mref\u001b[39m\u001b[38;5;124m'\u001b[39m, y\u001b[38;5;241m=\u001b[39m\u001b[38;5;124m'\u001b[39m\u001b[38;5;124mmatchday\u001b[39m\u001b[38;5;124m'\u001b[39m, \n\u001b[1;32m     11\u001b[0m              title\u001b[38;5;241m=\u001b[39m\u001b[38;5;124m\"\u001b[39m\u001b[38;5;124mReferee Analysis for Man Utd Matches\u001b[39m\u001b[38;5;124m\"\u001b[39m,\n\u001b[1;32m     12\u001b[0m              labels\u001b[38;5;241m=\u001b[39m{\u001b[38;5;124m'\u001b[39m\u001b[38;5;124mref\u001b[39m\u001b[38;5;124m'\u001b[39m: \u001b[38;5;124m'\u001b[39m\u001b[38;5;124mReferee\u001b[39m\u001b[38;5;124m'\u001b[39m, \u001b[38;5;124m'\u001b[39m\u001b[38;5;124mmatchday\u001b[39m\u001b[38;5;124m'\u001b[39m: \u001b[38;5;124m'\u001b[39m\u001b[38;5;124mNumber of Matches\u001b[39m\u001b[38;5;124m'\u001b[39m},\n\u001b[1;32m     13\u001b[0m              color\u001b[38;5;241m=\u001b[39m\u001b[38;5;124m'\u001b[39m\u001b[38;5;124mmatchday\u001b[39m\u001b[38;5;124m'\u001b[39m, color_continuous_scale\u001b[38;5;241m=\u001b[39m\u001b[38;5;124m'\u001b[39m\u001b[38;5;124mBlues\u001b[39m\u001b[38;5;124m'\u001b[39m)\n\u001b[0;32m---> 15\u001b[0m \u001b[43mfig\u001b[49m\u001b[38;5;241;43m.\u001b[39;49m\u001b[43mupdate_layout\u001b[49m\u001b[43m(\u001b[49m\u001b[43mxaxis\u001b[49m\u001b[38;5;241;43m=\u001b[39;49m\u001b[38;5;28;43mdict\u001b[39;49m\u001b[43m(\u001b[49m\u001b[43mtitle\u001b[49m\u001b[38;5;241;43m=\u001b[39;49m\u001b[38;5;124;43m'\u001b[39;49m\u001b[38;5;124;43mReferee\u001b[39;49m\u001b[38;5;124;43m'\u001b[39;49m\u001b[43m,\u001b[49m\u001b[43m \u001b[49m\u001b[43mtickangle\u001b[49m\u001b[38;5;241;43m=\u001b[39;49m\u001b[38;5;241;43m45\u001b[39;49m\u001b[43m)\u001b[49m\u001b[43m,\u001b[49m\n\u001b[1;32m     16\u001b[0m \u001b[43m                  \u001b[49m\u001b[43myaxis_title\u001b[49m\u001b[38;5;241;43m=\u001b[39;49m\u001b[38;5;124;43m'\u001b[39;49m\u001b[38;5;124;43mNumber of Matches\u001b[39;49m\u001b[38;5;124;43m'\u001b[39;49m\u001b[43m,\u001b[49m\n\u001b[1;32m     17\u001b[0m \u001b[43m                  \u001b[49m\u001b[43mtemplate\u001b[49m\u001b[38;5;241;43m=\u001b[39;49m\u001b[38;5;124;43m'\u001b[39;49m\u001b[38;5;124;43mplotly_black\u001b[39;49m\u001b[38;5;124;43m'\u001b[39;49m\u001b[43m)\u001b[49m\n\u001b[1;32m     19\u001b[0m fig\u001b[38;5;241m.\u001b[39mshow()\n",
      "File \u001b[0;32m~/Projects/DataAnalysis /my_virtual_env/lib/python3.9/site-packages/plotly/graph_objs/_figure.py:788\u001b[0m, in \u001b[0;36mFigure.update_layout\u001b[0;34m(self, dict1, overwrite, **kwargs)\u001b[0m\n\u001b[1;32m    762\u001b[0m \u001b[38;5;28;01mdef\u001b[39;00m \u001b[38;5;21mupdate_layout\u001b[39m(\u001b[38;5;28mself\u001b[39m, dict1\u001b[38;5;241m=\u001b[39m\u001b[38;5;28;01mNone\u001b[39;00m, overwrite\u001b[38;5;241m=\u001b[39m\u001b[38;5;28;01mFalse\u001b[39;00m, \u001b[38;5;241m*\u001b[39m\u001b[38;5;241m*\u001b[39mkwargs) \u001b[38;5;241m-\u001b[39m\u001b[38;5;241m>\u001b[39m \u001b[38;5;124m\"\u001b[39m\u001b[38;5;124mFigure\u001b[39m\u001b[38;5;124m\"\u001b[39m:\n\u001b[1;32m    763\u001b[0m \u001b[38;5;250m    \u001b[39m\u001b[38;5;124;03m\"\"\"\u001b[39;00m\n\u001b[1;32m    764\u001b[0m \n\u001b[1;32m    765\u001b[0m \u001b[38;5;124;03m    Update the properties of the figure's layout with a dict and/or with\u001b[39;00m\n\u001b[0;32m   (...)\u001b[0m\n\u001b[1;32m    786\u001b[0m \n\u001b[1;32m    787\u001b[0m \u001b[38;5;124;03m    \"\"\"\u001b[39;00m\n\u001b[0;32m--> 788\u001b[0m     \u001b[38;5;28;01mreturn\u001b[39;00m \u001b[38;5;28;43msuper\u001b[39;49m\u001b[43m(\u001b[49m\u001b[43mFigure\u001b[49m\u001b[43m,\u001b[49m\u001b[43m \u001b[49m\u001b[38;5;28;43mself\u001b[39;49m\u001b[43m)\u001b[49m\u001b[38;5;241;43m.\u001b[39;49m\u001b[43mupdate_layout\u001b[49m\u001b[43m(\u001b[49m\u001b[43mdict1\u001b[49m\u001b[43m,\u001b[49m\u001b[43m \u001b[49m\u001b[43moverwrite\u001b[49m\u001b[43m,\u001b[49m\u001b[43m \u001b[49m\u001b[38;5;241;43m*\u001b[39;49m\u001b[38;5;241;43m*\u001b[39;49m\u001b[43mkwargs\u001b[49m\u001b[43m)\u001b[49m\n",
      "File \u001b[0;32m~/Projects/DataAnalysis /my_virtual_env/lib/python3.9/site-packages/plotly/basedatatypes.py:1391\u001b[0m, in \u001b[0;36mBaseFigure.update_layout\u001b[0;34m(self, dict1, overwrite, **kwargs)\u001b[0m\n\u001b[1;32m   1367\u001b[0m \u001b[38;5;28;01mdef\u001b[39;00m \u001b[38;5;21mupdate_layout\u001b[39m(\u001b[38;5;28mself\u001b[39m, dict1\u001b[38;5;241m=\u001b[39m\u001b[38;5;28;01mNone\u001b[39;00m, overwrite\u001b[38;5;241m=\u001b[39m\u001b[38;5;28;01mFalse\u001b[39;00m, \u001b[38;5;241m*\u001b[39m\u001b[38;5;241m*\u001b[39mkwargs):\n\u001b[1;32m   1368\u001b[0m \u001b[38;5;250m    \u001b[39m\u001b[38;5;124;03m\"\"\"\u001b[39;00m\n\u001b[1;32m   1369\u001b[0m \u001b[38;5;124;03m    Update the properties of the figure's layout with a dict and/or with\u001b[39;00m\n\u001b[1;32m   1370\u001b[0m \u001b[38;5;124;03m    keyword arguments.\u001b[39;00m\n\u001b[0;32m   (...)\u001b[0m\n\u001b[1;32m   1389\u001b[0m \u001b[38;5;124;03m        The Figure object that the update_layout method was called on\u001b[39;00m\n\u001b[1;32m   1390\u001b[0m \u001b[38;5;124;03m    \"\"\"\u001b[39;00m\n\u001b[0;32m-> 1391\u001b[0m     \u001b[38;5;28;43mself\u001b[39;49m\u001b[38;5;241;43m.\u001b[39;49m\u001b[43mlayout\u001b[49m\u001b[38;5;241;43m.\u001b[39;49m\u001b[43mupdate\u001b[49m\u001b[43m(\u001b[49m\u001b[43mdict1\u001b[49m\u001b[43m,\u001b[49m\u001b[43m \u001b[49m\u001b[43moverwrite\u001b[49m\u001b[38;5;241;43m=\u001b[39;49m\u001b[43moverwrite\u001b[49m\u001b[43m,\u001b[49m\u001b[43m \u001b[49m\u001b[38;5;241;43m*\u001b[39;49m\u001b[38;5;241;43m*\u001b[39;49m\u001b[43mkwargs\u001b[49m\u001b[43m)\u001b[49m\n\u001b[1;32m   1392\u001b[0m     \u001b[38;5;28;01mreturn\u001b[39;00m \u001b[38;5;28mself\u001b[39m\n",
      "File \u001b[0;32m~/Projects/DataAnalysis /my_virtual_env/lib/python3.9/site-packages/plotly/basedatatypes.py:5131\u001b[0m, in \u001b[0;36mBasePlotlyType.update\u001b[0;34m(self, dict1, overwrite, **kwargs)\u001b[0m\n\u001b[1;32m   5129\u001b[0m     \u001b[38;5;28;01mwith\u001b[39;00m \u001b[38;5;28mself\u001b[39m\u001b[38;5;241m.\u001b[39mfigure\u001b[38;5;241m.\u001b[39mbatch_update():\n\u001b[1;32m   5130\u001b[0m         BaseFigure\u001b[38;5;241m.\u001b[39m_perform_update(\u001b[38;5;28mself\u001b[39m, dict1, overwrite\u001b[38;5;241m=\u001b[39moverwrite)\n\u001b[0;32m-> 5131\u001b[0m         \u001b[43mBaseFigure\u001b[49m\u001b[38;5;241;43m.\u001b[39;49m\u001b[43m_perform_update\u001b[49m\u001b[43m(\u001b[49m\u001b[38;5;28;43mself\u001b[39;49m\u001b[43m,\u001b[49m\u001b[43m \u001b[49m\u001b[43mkwargs\u001b[49m\u001b[43m,\u001b[49m\u001b[43m \u001b[49m\u001b[43moverwrite\u001b[49m\u001b[38;5;241;43m=\u001b[39;49m\u001b[43moverwrite\u001b[49m\u001b[43m)\u001b[49m\n\u001b[1;32m   5132\u001b[0m \u001b[38;5;28;01melse\u001b[39;00m:\n\u001b[1;32m   5133\u001b[0m     BaseFigure\u001b[38;5;241m.\u001b[39m_perform_update(\u001b[38;5;28mself\u001b[39m, dict1, overwrite\u001b[38;5;241m=\u001b[39moverwrite)\n",
      "File \u001b[0;32m~/Projects/DataAnalysis /my_virtual_env/lib/python3.9/site-packages/plotly/basedatatypes.py:3934\u001b[0m, in \u001b[0;36mBaseFigure._perform_update\u001b[0;34m(plotly_obj, update_obj, overwrite)\u001b[0m\n\u001b[1;32m   3931\u001b[0m                 plotly_obj[key] \u001b[38;5;241m=\u001b[39m val\n\u001b[1;32m   3932\u001b[0m         \u001b[38;5;28;01melse\u001b[39;00m:\n\u001b[1;32m   3933\u001b[0m             \u001b[38;5;66;03m# Assign non-compound value\u001b[39;00m\n\u001b[0;32m-> 3934\u001b[0m             \u001b[43mplotly_obj\u001b[49m\u001b[43m[\u001b[49m\u001b[43mkey\u001b[49m\u001b[43m]\u001b[49m \u001b[38;5;241m=\u001b[39m val\n\u001b[1;32m   3936\u001b[0m \u001b[38;5;28;01melif\u001b[39;00m \u001b[38;5;28misinstance\u001b[39m(plotly_obj, \u001b[38;5;28mtuple\u001b[39m):\n\u001b[1;32m   3938\u001b[0m     \u001b[38;5;28;01mif\u001b[39;00m \u001b[38;5;28mlen\u001b[39m(update_obj) \u001b[38;5;241m==\u001b[39m \u001b[38;5;241m0\u001b[39m:\n\u001b[1;32m   3939\u001b[0m         \u001b[38;5;66;03m# Nothing to do\u001b[39;00m\n",
      "File \u001b[0;32m~/Projects/DataAnalysis /my_virtual_env/lib/python3.9/site-packages/plotly/basedatatypes.py:5906\u001b[0m, in \u001b[0;36mBaseLayoutType.__setitem__\u001b[0;34m(self, prop, value)\u001b[0m\n\u001b[1;32m   5903\u001b[0m match \u001b[38;5;241m=\u001b[39m \u001b[38;5;28mself\u001b[39m\u001b[38;5;241m.\u001b[39m_subplot_re_match(prop)\n\u001b[1;32m   5904\u001b[0m \u001b[38;5;28;01mif\u001b[39;00m match \u001b[38;5;129;01mis\u001b[39;00m \u001b[38;5;28;01mNone\u001b[39;00m:\n\u001b[1;32m   5905\u001b[0m     \u001b[38;5;66;03m# Set as ordinary property\u001b[39;00m\n\u001b[0;32m-> 5906\u001b[0m     \u001b[38;5;28;43msuper\u001b[39;49m\u001b[43m(\u001b[49m\u001b[43mBaseLayoutHierarchyType\u001b[49m\u001b[43m,\u001b[49m\u001b[43m \u001b[49m\u001b[38;5;28;43mself\u001b[39;49m\u001b[43m)\u001b[49m\u001b[38;5;241;43m.\u001b[39;49m\u001b[38;5;21;43m__setitem__\u001b[39;49m\u001b[43m(\u001b[49m\u001b[43mprop\u001b[49m\u001b[43m,\u001b[49m\u001b[43m \u001b[49m\u001b[43mvalue\u001b[49m\u001b[43m)\u001b[49m\n\u001b[1;32m   5907\u001b[0m \u001b[38;5;28;01melse\u001b[39;00m:\n\u001b[1;32m   5908\u001b[0m     \u001b[38;5;66;03m# Set as subplotid property\u001b[39;00m\n\u001b[1;32m   5909\u001b[0m     \u001b[38;5;28mself\u001b[39m\u001b[38;5;241m.\u001b[39m_set_subplotid_prop(prop, value)\n",
      "File \u001b[0;32m~/Projects/DataAnalysis /my_virtual_env/lib/python3.9/site-packages/plotly/basedatatypes.py:4860\u001b[0m, in \u001b[0;36mBasePlotlyType.__setitem__\u001b[0;34m(self, prop, value)\u001b[0m\n\u001b[1;32m   4858\u001b[0m \u001b[38;5;66;03m# ### Handle compound property ###\u001b[39;00m\n\u001b[1;32m   4859\u001b[0m \u001b[38;5;28;01mif\u001b[39;00m \u001b[38;5;28misinstance\u001b[39m(validator, CompoundValidator):\n\u001b[0;32m-> 4860\u001b[0m     \u001b[38;5;28;43mself\u001b[39;49m\u001b[38;5;241;43m.\u001b[39;49m\u001b[43m_set_compound_prop\u001b[49m\u001b[43m(\u001b[49m\u001b[43mprop\u001b[49m\u001b[43m,\u001b[49m\u001b[43m \u001b[49m\u001b[43mvalue\u001b[49m\u001b[43m)\u001b[49m\n\u001b[1;32m   4862\u001b[0m \u001b[38;5;66;03m# ### Handle compound array property ###\u001b[39;00m\n\u001b[1;32m   4863\u001b[0m \u001b[38;5;28;01melif\u001b[39;00m \u001b[38;5;28misinstance\u001b[39m(validator, (CompoundArrayValidator, BaseDataValidator)):\n",
      "File \u001b[0;32m~/Projects/DataAnalysis /my_virtual_env/lib/python3.9/site-packages/plotly/basedatatypes.py:5271\u001b[0m, in \u001b[0;36mBasePlotlyType._set_compound_prop\u001b[0;34m(self, prop, val)\u001b[0m\n\u001b[1;32m   5268\u001b[0m \u001b[38;5;66;03m# Import value\u001b[39;00m\n\u001b[1;32m   5269\u001b[0m \u001b[38;5;66;03m# ------------\u001b[39;00m\n\u001b[1;32m   5270\u001b[0m validator \u001b[38;5;241m=\u001b[39m \u001b[38;5;28mself\u001b[39m\u001b[38;5;241m.\u001b[39m_get_validator(prop)\n\u001b[0;32m-> 5271\u001b[0m val \u001b[38;5;241m=\u001b[39m \u001b[43mvalidator\u001b[49m\u001b[38;5;241;43m.\u001b[39;49m\u001b[43mvalidate_coerce\u001b[49m\u001b[43m(\u001b[49m\u001b[43mval\u001b[49m\u001b[43m,\u001b[49m\u001b[43m \u001b[49m\u001b[43mskip_invalid\u001b[49m\u001b[38;5;241;43m=\u001b[39;49m\u001b[38;5;28;43mself\u001b[39;49m\u001b[38;5;241;43m.\u001b[39;49m\u001b[43m_skip_invalid\u001b[49m\u001b[43m)\u001b[49m\n\u001b[1;32m   5273\u001b[0m \u001b[38;5;66;03m# Save deep copies of current and new states\u001b[39;00m\n\u001b[1;32m   5274\u001b[0m \u001b[38;5;66;03m# ------------------------------------------\u001b[39;00m\n\u001b[1;32m   5275\u001b[0m curr_val \u001b[38;5;241m=\u001b[39m \u001b[38;5;28mself\u001b[39m\u001b[38;5;241m.\u001b[39m_compound_props\u001b[38;5;241m.\u001b[39mget(prop, \u001b[38;5;28;01mNone\u001b[39;00m)\n",
      "File \u001b[0;32m~/Projects/DataAnalysis /my_virtual_env/lib/python3.9/site-packages/_plotly_utils/basevalidators.py:2804\u001b[0m, in \u001b[0;36mBaseTemplateValidator.validate_coerce\u001b[0;34m(self, v, skip_invalid)\u001b[0m\n\u001b[1;32m   2798\u001b[0m \u001b[38;5;28;01mif\u001b[39;00m v \u001b[38;5;241m==\u001b[39m {} \u001b[38;5;129;01mor\u001b[39;00m \u001b[38;5;28misinstance\u001b[39m(v, \u001b[38;5;28mself\u001b[39m\u001b[38;5;241m.\u001b[39mdata_class) \u001b[38;5;129;01mand\u001b[39;00m v\u001b[38;5;241m.\u001b[39mto_plotly_json() \u001b[38;5;241m==\u001b[39m {}:\n\u001b[1;32m   2799\u001b[0m     \u001b[38;5;66;03m# Replace empty template with {'data': {'scatter': [{}]}} so that we can\u001b[39;00m\n\u001b[1;32m   2800\u001b[0m     \u001b[38;5;66;03m# tell the difference between an un-initialized template and a template\u001b[39;00m\n\u001b[1;32m   2801\u001b[0m     \u001b[38;5;66;03m# explicitly set to empty.\u001b[39;00m\n\u001b[1;32m   2802\u001b[0m     \u001b[38;5;28;01mreturn\u001b[39;00m \u001b[38;5;28mself\u001b[39m\u001b[38;5;241m.\u001b[39mdata_class(data_scatter\u001b[38;5;241m=\u001b[39m[{}])\n\u001b[0;32m-> 2804\u001b[0m \u001b[38;5;28;01mreturn\u001b[39;00m \u001b[38;5;28;43msuper\u001b[39;49m\u001b[43m(\u001b[49m\u001b[43mBaseTemplateValidator\u001b[49m\u001b[43m,\u001b[49m\u001b[43m \u001b[49m\u001b[38;5;28;43mself\u001b[39;49m\u001b[43m)\u001b[49m\u001b[38;5;241;43m.\u001b[39;49m\u001b[43mvalidate_coerce\u001b[49m\u001b[43m(\u001b[49m\n\u001b[1;32m   2805\u001b[0m \u001b[43m    \u001b[49m\u001b[43mv\u001b[49m\u001b[43m,\u001b[49m\u001b[43m \u001b[49m\u001b[43mskip_invalid\u001b[49m\u001b[38;5;241;43m=\u001b[39;49m\u001b[43mskip_invalid\u001b[49m\n\u001b[1;32m   2806\u001b[0m \u001b[43m\u001b[49m\u001b[43m)\u001b[49m\n",
      "File \u001b[0;32m~/Projects/DataAnalysis /my_virtual_env/lib/python3.9/site-packages/_plotly_utils/basevalidators.py:2520\u001b[0m, in \u001b[0;36mCompoundValidator.validate_coerce\u001b[0;34m(self, v, skip_invalid, _validate)\u001b[0m\n\u001b[1;32m   2518\u001b[0m         v \u001b[38;5;241m=\u001b[39m \u001b[38;5;28mself\u001b[39m\u001b[38;5;241m.\u001b[39mdata_class()\n\u001b[1;32m   2519\u001b[0m     \u001b[38;5;28;01melse\u001b[39;00m:\n\u001b[0;32m-> 2520\u001b[0m         \u001b[38;5;28;43mself\u001b[39;49m\u001b[38;5;241;43m.\u001b[39;49m\u001b[43mraise_invalid_val\u001b[49m\u001b[43m(\u001b[49m\u001b[43mv\u001b[49m\u001b[43m)\u001b[49m\n\u001b[1;32m   2522\u001b[0m v\u001b[38;5;241m.\u001b[39m_plotly_name \u001b[38;5;241m=\u001b[39m \u001b[38;5;28mself\u001b[39m\u001b[38;5;241m.\u001b[39mplotly_name\n\u001b[1;32m   2523\u001b[0m \u001b[38;5;28;01mreturn\u001b[39;00m v\n",
      "File \u001b[0;32m~/Projects/DataAnalysis /my_virtual_env/lib/python3.9/site-packages/_plotly_utils/basevalidators.py:296\u001b[0m, in \u001b[0;36mBaseValidator.raise_invalid_val\u001b[0;34m(self, v, inds)\u001b[0m\n\u001b[1;32m    293\u001b[0m             \u001b[38;5;28;01mfor\u001b[39;00m i \u001b[38;5;129;01min\u001b[39;00m inds:\n\u001b[1;32m    294\u001b[0m                 name \u001b[38;5;241m+\u001b[39m\u001b[38;5;241m=\u001b[39m \u001b[38;5;124m\"\u001b[39m\u001b[38;5;124m[\u001b[39m\u001b[38;5;124m\"\u001b[39m \u001b[38;5;241m+\u001b[39m \u001b[38;5;28mstr\u001b[39m(i) \u001b[38;5;241m+\u001b[39m \u001b[38;5;124m\"\u001b[39m\u001b[38;5;124m]\u001b[39m\u001b[38;5;124m\"\u001b[39m\n\u001b[0;32m--> 296\u001b[0m         \u001b[38;5;28;01mraise\u001b[39;00m \u001b[38;5;167;01mValueError\u001b[39;00m(\n\u001b[1;32m    297\u001b[0m \u001b[38;5;250m            \u001b[39m\u001b[38;5;124;03m\"\"\"\u001b[39;00m\n\u001b[1;32m    298\u001b[0m \u001b[38;5;124;03m    Invalid value of type {typ} received for the '{name}' property of {pname}\u001b[39;00m\n\u001b[1;32m    299\u001b[0m \u001b[38;5;124;03m        Received value: {v}\u001b[39;00m\n\u001b[1;32m    300\u001b[0m \n\u001b[1;32m    301\u001b[0m \u001b[38;5;124;03m{valid_clr_desc}\"\"\"\u001b[39;00m\u001b[38;5;241m.\u001b[39mformat(\n\u001b[1;32m    302\u001b[0m                 name\u001b[38;5;241m=\u001b[39mname,\n\u001b[1;32m    303\u001b[0m                 pname\u001b[38;5;241m=\u001b[39m\u001b[38;5;28mself\u001b[39m\u001b[38;5;241m.\u001b[39mparent_name,\n\u001b[1;32m    304\u001b[0m                 typ\u001b[38;5;241m=\u001b[39mtype_str(v),\n\u001b[1;32m    305\u001b[0m                 v\u001b[38;5;241m=\u001b[39m\u001b[38;5;28mrepr\u001b[39m(v),\n\u001b[1;32m    306\u001b[0m                 valid_clr_desc\u001b[38;5;241m=\u001b[39m\u001b[38;5;28mself\u001b[39m\u001b[38;5;241m.\u001b[39mdescription(),\n\u001b[1;32m    307\u001b[0m             )\n\u001b[1;32m    308\u001b[0m         )\n",
      "\u001b[0;31mValueError\u001b[0m: \n    Invalid value of type 'builtins.str' received for the 'template' property of layout\n        Received value: 'plotly_black'\n\n    The 'template' property is an instance of Template\n    that may be specified as:\n      - An instance of :class:`plotly.graph_objs.layout.Template`\n      - A dict of string/value properties that will be passed\n        to the Template constructor\n\n        Supported dict properties:\n            \n            data\n                :class:`plotly.graph_objects.layout.template.Da\n                ta` instance or dict with compatible properties\n            layout\n                :class:`plotly.graph_objects.Layout` instance\n                or dict with compatible properties\n\n      - The name of a registered template where current registered templates\n        are stored in the plotly.io.templates configuration object. The names\n        of all registered templates can be retrieved with:\n            >>> import plotly.io as pio\n            >>> list(pio.templates)  # doctest: +ELLIPSIS\n            ['ggplot2', 'seaborn', 'simple_white', 'plotly', 'plotly_white', ...]\n\n      - A string containing multiple registered template names, joined on '+'\n        characters (e.g. 'template1+template2'). In this case the resulting\n        template is computed by merging together the collection of registered\n        templates"
     ]
    }
   ],
   "source": [
    "import plotly.express as px\n",
    "\n",
    "# Filter the data for matches involving Manchester United\n",
    "manutd_data = df[(df['home_team'] == 'Man Utd') | (df['away_team'] == 'Man Utd')]\n",
    "\n",
    "# Count matches officiated by each referee for Man Utd matches\n",
    "ref_analysis = df.groupby('ref').size().reset_index(name='matchday')\n",
    "\n",
    "# Create an interactive bar chart showing number of matches officiated by each referee\n",
    "fig = px.bar(ref_analysis, x='ref', y='matchday', \n",
    "             title=\"Referee Analysis for Man Utd Matches\",\n",
    "             labels={'ref': 'Referee', 'matchday': 'Number of Matches'},\n",
    "             color='matchday', color_continuous_scale='Blues')\n",
    "\n",
    "fig.update_layout(xaxis=dict(title='Referee', tickangle=45),\n",
    "                  yaxis_title='Number of Matches',\n",
    "                  template='plotly_white')\n",
    "\n",
    "fig.show()\n"
   ]
  }
 ],
 "metadata": {
  "kernelspec": {
   "display_name": "myproject_kernel",
   "language": "python",
   "name": "myproject_kernel"
  },
  "language_info": {
   "codemirror_mode": {
    "name": "ipython",
    "version": 3
   },
   "file_extension": ".py",
   "mimetype": "text/x-python",
   "name": "python",
   "nbconvert_exporter": "python",
   "pygments_lexer": "ipython3",
   "version": "3.9.12"
  }
 },
 "nbformat": 4,
 "nbformat_minor": 2
}
